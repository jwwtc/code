{
 "cells": [
  {
   "cell_type": "code",
   "execution_count": null,
   "id": "88432b54",
   "metadata": {},
   "outputs": [],
   "source": [
    "#Packages\n",
    "\n",
    "import warnings\n",
    "warnings.filterwarnings('ignore')\n",
    "import numpy as np\n",
    "import matplotlib.pyplot as plt\n",
    "from PIL import Image\n",
    "from pymks import (generate_multiphase, plot_microstructures, PrimitiveTransformer,\n",
    "                   TwoPointCorrelation,FlattenTransformer, PrimitiveBasis)\n",
    "from pymks.stats import correlate\n",
    "from pymks.tools import draw_microstructures\n",
    "from sklearn.pipeline import Pipeline\n",
    "from sklearn.decomposition import PCA\n",
    "import glob"
   ]
  },
  {
   "cell_type": "code",
   "execution_count": null,
   "id": "a75b2b7e",
   "metadata": {},
   "outputs": [],
   "source": [
    "%matplotlib inline\n",
    "%reload_ext autoreload\n",
    "%autoreload 2"
   ]
  },
  {
   "cell_type": "code",
   "execution_count": null,
   "id": "4e2bb478",
   "metadata": {
    "scrolled": false
   },
   "outputs": [],
   "source": [
    "#Append images all to one list.\n",
    "images = []\n",
    "for filename in glob.glob(r'C:\\Users\\mikep\\Desktop\\project\\data\\fiji data\\1\\*.tif'):\n",
    "    im=Image.open(filename)\n",
    "    images.append(im)\n",
    "np.shape(images[0])"
   ]
  },
  {
   "cell_type": "code",
   "execution_count": null,
   "id": "751ac8c9",
   "metadata": {},
   "outputs": [],
   "source": [
    "#List comprehension to convert the members of the \"images\" list to arrays.\n",
    "imarrays = [ np.array(x) for x in images ]\n",
    "imarrays[0].shape"
   ]
  },
  {
   "cell_type": "code",
   "execution_count": null,
   "id": "ea13eb6f",
   "metadata": {},
   "outputs": [],
   "source": [
    "#Stacking all image arrays to create the 'sample' dimension and to convert the list to an array.\n",
    "data_a = np.stack(images, axis=0)\n",
    "data_a.shape"
   ]
  },
  {
   "cell_type": "code",
   "execution_count": null,
   "id": "c128c37f",
   "metadata": {},
   "outputs": [],
   "source": [
    "#Visualization of the microstructures.\n",
    "plot_microstructures(*data_a[:10], cmap='gray', colorbar=False);"
   ]
  },
  {
   "cell_type": "code",
   "execution_count": null,
   "id": "59bb997f",
   "metadata": {},
   "outputs": [],
   "source": [
    "#List comprehension to add the \"phases\" axis with the PrimitiveTransformer class.\n",
    "data = PrimitiveTransformer(n_state=2, min_=0.0, max_=1.0).transform(data_a)\n",
    "data.shape"
   ]
  },
  {
   "cell_type": "code",
   "execution_count": null,
   "id": "6f3ef5a5",
   "metadata": {},
   "outputs": [],
   "source": [
    "data_corr = TwoPointCorrelation(\n",
    "    periodic_boundary=True,\n",
    "    cutoff=10,\n",
    "    correlations=[(0, 0), (0, 1)]\n",
    ").transform(data)\n",
    "\n",
    "data_corr.shape\n",
    "\n",
    "#for i in range(0, 11):\n",
    "    #print(data_corr[i, :, :, 0])"
   ]
  },
  {
   "cell_type": "code",
   "execution_count": null,
   "id": "1cabb695",
   "metadata": {},
   "outputs": [],
   "source": [
    "plot_microstructures(\n",
    "    data_corr[0, :, :, 0],\n",
    "    data_corr[0, :, :, 1],\n",
    "    titles=['Auto-correlation', 'Cross-correlation'],\n",
    "    showticks=True\n",
    ");"
   ]
  },
  {
   "cell_type": "code",
   "execution_count": null,
   "id": "f63872ea",
   "metadata": {},
   "outputs": [],
   "source": [
    "pc_scores = PCA(\n",
    "    svd_solver='full',\n",
    "    n_components=3,\n",
    "    random_state=10\n",
    ").fit_transform(data_corr.reshape(10, -1))"
   ]
  },
  {
   "cell_type": "code",
   "execution_count": null,
   "id": "368f63eb",
   "metadata": {},
   "outputs": [],
   "source": [
    "#PYTEST_VALIDATE_IGNORE_OUTPUT\n",
    "%matplotlib notebook"
   ]
  },
  {
   "cell_type": "code",
   "execution_count": null,
   "id": "04a8d058",
   "metadata": {},
   "outputs": [],
   "source": [
    "#PYTEST_VALIDATE_IGNORE_OUTPUT\n",
    "pc1, pc2, pc3, pc4 = np.split(pc_scores, 4)\n",
    "\n",
    "fig = plt.figure()\n",
    "ax = fig.add_subplot(111, projection='3d')\n",
    "\n",
    "ax.scatter(pc1[:,0], pc1[:,1], pc1[:,2], c='r', marker='o')\n",
    "ax.scatter(pc2[:,0], pc2[:,1], pc2[:,2], c='g', marker='o')\n",
    "ax.scatter(pc3[:,0], pc3[:,1], pc3[:,2], c='b', marker='o')\n",
    "ax.scatter(pc4[:,0], pc4[:,1], pc4[:,2], c='k', marker='o')\n",
    "\n",
    "ax.set_xlabel(\"PC1\")\n",
    "ax.set_ylabel(\"PC2\")\n",
    "ax.set_zlabel(\"PC3\")\n",
    "plt.show()"
   ]
  },
  {
   "cell_type": "markdown",
   "id": "ddbce31d",
   "metadata": {},
   "source": [
    "model = Pipeline(steps=[\n",
    "        ('discretize', PrimitiveTransformer(n_state=2, min_=0.0, max_=1.0)),\n",
    "        ('correlations', TwoPointCorrelation(\n",
    "        periodic_boundary=True,\n",
    "        correlations=[[0,0], [0,1]]\n",
    "                                        ).transform(data))\n",
    "])\n",
    "\n",
    "print(imarray.shape)\n",
    "x_stats = model.transform(imarray).persist()\n",
    "print(x_stats.shape)\n",
    "\n",
    "X = PrimitiveTransformer(n_state=2, min_=0.0, max_=1.0).transform(imarray)\n",
    "X.shape\n",
    "X_ = prim_basis.discretize(imarray)\n",
    "X_corr = correlate(X_, periodic_axes=[0, 1], basis=prim_basis)"
   ]
  }
 ],
 "metadata": {
  "kernelspec": {
   "display_name": "Python 3",
   "language": "python",
   "name": "python3"
  },
  "language_info": {
   "codemirror_mode": {
    "name": "ipython",
    "version": 3
   },
   "file_extension": ".py",
   "mimetype": "text/x-python",
   "name": "python",
   "nbconvert_exporter": "python",
   "pygments_lexer": "ipython3",
   "version": "3.6.13"
  }
 },
 "nbformat": 4,
 "nbformat_minor": 5
}
