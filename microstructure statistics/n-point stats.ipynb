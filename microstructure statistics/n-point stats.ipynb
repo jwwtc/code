{
 "cells": [
  {
   "cell_type": "code",
   "execution_count": null,
   "id": "88432b54",
   "metadata": {},
   "outputs": [],
   "source": [
    "#Packages\n",
    "import warnings\n",
    "warnings.filterwarnings('ignore')\n",
    "import numpy as np\n",
    "import matplotlib.pyplot as plt\n",
    "from PIL import Image\n",
    "from pymks import (generate_multiphase, plot_microstructures, PrimitiveTransformer,\n",
    "                   TwoPointCorrelation,FlattenTransformer, PrimitiveBasis)\n",
    "from pymks.stats import correlate\n",
    "from pymks.tools import draw_microstructures\n",
    "from sklearn.pipeline import Pipeline\n",
    "from sklearn.decomposition import PCA\n",
    "from sklearn.preprocessing import StandardScaler\n",
    "import glob\n",
    "import pandas as pd\n",
    "import csv"
   ]
  },
  {
   "cell_type": "code",
   "execution_count": null,
   "id": "a75b2b7e",
   "metadata": {},
   "outputs": [],
   "source": [
    "%matplotlib inline\n",
    "%reload_ext autoreload\n",
    "%autoreload 2"
   ]
  },
  {
   "cell_type": "code",
   "execution_count": null,
   "id": "4e2bb478",
   "metadata": {
    "scrolled": false
   },
   "outputs": [],
   "source": [
    "#Append images all to one list.\n",
    "images = []\n",
    "for filename in glob.glob(r'C:\\Users\\mikep\\Desktop\\project\\data\\micress\\*.tif'):\n",
    "    im=Image.open(filename)\n",
    "    images.append(im)\n",
    "np.shape(images[0])"
   ]
  },
  {
   "cell_type": "code",
   "execution_count": null,
   "id": "751ac8c9",
   "metadata": {},
   "outputs": [],
   "source": [
    "#List comprehension to convert the members of the \"images\" list to arrays.\n",
    "imarrays = [np.array(x) for x in images]\n",
    "imarrays[0].shape"
   ]
  },
  {
   "cell_type": "code",
   "execution_count": null,
   "id": "ea13eb6f",
   "metadata": {},
   "outputs": [],
   "source": [
    "#Stacking all image arrays to create the 'sample' dimension and to convert the list to an array.\n",
    "data_a = np.stack(images, axis=0)\n",
    "data_a.shape"
   ]
  },
  {
   "cell_type": "code",
   "execution_count": null,
   "id": "c128c37f",
   "metadata": {},
   "outputs": [],
   "source": [
    "#Visualization of the microstructures.\n",
    "plot_microstructures(*data_a[:10], cmap='gray', colorbar=False);"
   ]
  },
  {
   "cell_type": "code",
   "execution_count": null,
   "id": "59bb997f",
   "metadata": {},
   "outputs": [],
   "source": [
    "#List comprehension to add the \"phases\" axis with the PrimitiveTransformer class.\n",
    "data = PrimitiveTransformer(n_state=2, min_=0.0, max_=1.0).transform(data_a)\n",
    "data.shape"
   ]
  },
  {
   "cell_type": "code",
   "execution_count": null,
   "id": "6f3ef5a5",
   "metadata": {},
   "outputs": [],
   "source": [
    "data_corr = TwoPointCorrelation(\n",
    "    periodic_boundary=True,\n",
    "    cutoff=10,\n",
    "    correlations=[(0, 0), (0, 1)]\n",
    ").transform(data)\n",
    "\n",
    "data_corr.shape\n",
    "\n",
    "#for i in range(0, 11):\n",
    "    #print(data_corr[i, :, :, 0])"
   ]
  },
  {
   "cell_type": "code",
   "execution_count": null,
   "id": "1cabb695",
   "metadata": {},
   "outputs": [],
   "source": [
    "plot_microstructures(\n",
    "    data_corr[0, :, :, 0],\n",
    "    data_corr[0, :, :, 1],\n",
    "    titles=['Auto-correlation', 'Cross-correlation'],\n",
    "    showticks=True\n",
    ");"
   ]
  },
  {
   "cell_type": "code",
   "execution_count": null,
   "id": "f63872ea",
   "metadata": {},
   "outputs": [],
   "source": [
    "pca = PCA(\n",
    "    svd_solver='full',\n",
    "    n_components=2,\n",
    "    random_state=10\n",
    ")\n",
    "\n",
    "pc_scores=pca.fit_transform(data_corr.reshape(10, -1))\n",
    "pc_scores.shape"
   ]
  },
  {
   "cell_type": "code",
   "execution_count": null,
   "id": "368f63eb",
   "metadata": {},
   "outputs": [],
   "source": [
    "#PYTEST_VALIDATE_IGNORE_OUTPUT\n",
    "%matplotlib notebook"
   ]
  },
  {
   "cell_type": "code",
   "execution_count": null,
   "id": "fd82792b",
   "metadata": {},
   "outputs": [],
   "source": [
    "pca.components_\n",
    "\n"
   ]
  },
  {
   "cell_type": "code",
   "execution_count": null,
   "id": "aa7ee018",
   "metadata": {
    "scrolled": true
   },
   "outputs": [],
   "source": [
    "for x in range(len(pc_scores)):\n",
    "    print(pc_scores[x])"
   ]
  },
  {
   "cell_type": "code",
   "execution_count": null,
   "id": "04a8d058",
   "metadata": {},
   "outputs": [],
   "source": [
    "#PYTEST_VALIDATE_IGNORE_OUTPUT\n",
    "pc1, pc2 = np.split(pc_scores, 2)\n",
    "print(pc1, pc2)"
   ]
  },
  {
   "cell_type": "code",
   "execution_count": null,
   "id": "ea1bfc0e",
   "metadata": {},
   "outputs": [],
   "source": [
    "fig = plt.figure()\n",
    "ax = fig.add_subplot(111)\n",
    "#, projection='2d')\n",
    "\n",
    "ax.scatter(pc1[:,0], pc1[:,1], c='red', marker='o')\n",
    "ax.scatter(pc2[:,0], pc2[:,1], c='blue', marker='o')\n",
    "#ax.scatter(pc3[:,0], pc3[:,1], pc3[:,2], c='b', marker='o')\n",
    "\n",
    "ax.set_xlabel(\"PC1\")\n",
    "ax.set_ylabel(\"PC2\")\n",
    "#ax.set_zlabel(\"PC3\")\n",
    "\n",
    "plt.grid(color = 'black', linestyle = '--', linewidth = 0.5)\n",
    "plt.legend()\n",
    "\n",
    "plt.show()"
   ]
  },
  {
   "cell_type": "code",
   "execution_count": null,
   "id": "5c321ef0",
   "metadata": {},
   "outputs": [],
   "source": [
    "# write csv file\n",
    "f = open(r'C:\\Users\\mikep\\Desktop\\project\\data\\pc-scores\\pc1.csv', 'w')\n",
    "writer = csv.writer(f)\n",
    "writer.writerow(pc1)\n",
    "f.close()"
   ]
  },
  {
   "cell_type": "code",
   "execution_count": null,
   "id": "3925eb4c",
   "metadata": {},
   "outputs": [],
   "source": []
  }
 ],
 "metadata": {
  "kernelspec": {
   "display_name": "Python 3",
   "language": "python",
   "name": "python3"
  },
  "language_info": {
   "codemirror_mode": {
    "name": "ipython",
    "version": 3
   },
   "file_extension": ".py",
   "mimetype": "text/x-python",
   "name": "python",
   "nbconvert_exporter": "python",
   "pygments_lexer": "ipython3",
   "version": "3.6.13"
  }
 },
 "nbformat": 4,
 "nbformat_minor": 5
}
