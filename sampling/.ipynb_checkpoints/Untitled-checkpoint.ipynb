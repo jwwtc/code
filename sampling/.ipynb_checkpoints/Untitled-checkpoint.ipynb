{
 "cells": [
  {
   "cell_type": "code",
   "execution_count": 4,
   "id": "d3ab53af",
   "metadata": {},
   "outputs": [],
   "source": [
    "#Packages\n",
    "import numpy as np\n",
    "import matplotlib.pyplot as plt\n",
    "from mpl_toolkits.mplot3d import Axes3D\n",
    "from smt.sampling_methods import LHS"
   ]
  },
  {
   "cell_type": "code",
   "execution_count": 5,
   "id": "6683e88d",
   "metadata": {},
   "outputs": [
    {
     "name": "stdout",
     "output_type": "stream",
     "text": [
      "[[622.5 200. ]\n",
      " [637.5 488. ]\n",
      " [607.5 520. ]\n",
      " [772.5 584. ]\n",
      " [757.5 136. ]\n",
      " [652.5 456. ]\n",
      " [787.5 232. ]\n",
      " [802.5 424. ]\n",
      " [817.5 328. ]\n",
      " [682.5 296. ]\n",
      " [727.5 552. ]\n",
      " [712.5 168. ]\n",
      " [667.5 392. ]\n",
      " [742.5 360. ]\n",
      " [697.5 264. ]]\n",
      "(15, 2)\n"
     ]
    }
   ],
   "source": [
    "#Sampling --- Temperature / Duration\n",
    "limits=np.array([[600,825], [120, 600]])\n",
    "sampling=LHS(xlimits=limits)\n",
    "\n",
    "num = 15\n",
    "x = sampling(num)\n",
    "\n",
    "print(x)\n",
    "print(x.shape)"
   ]
  },
  {
   "cell_type": "code",
   "execution_count": 6,
   "id": "916cd66a",
   "metadata": {},
   "outputs": [
    {
     "data": {
      "image/png": "[encoded data removed]",
      "text/plain": [
       "<Figure size 432x288 with 1 Axes>"
      ]
     },
     "metadata": {
      "needs_background": "light"
     },
     "output_type": "display_data"
    }
   ],
   "source": [
    "#Figure\n",
    "plt.plot(x[:, 0], x[:, 1], \"o\", c='cyan')\n",
    "plt.xlabel(\"Temperature (Celsius)\")\n",
    "plt.ylabel(\"Annealing Time (seconds)\")\n",
    "plt.show()"
   ]
  }
 ],
 "metadata": {
  "kernelspec": {
   "display_name": "Python 3 (ipykernel)",
   "language": "python",
   "name": "python3"
  },
  "language_info": {
   "codemirror_mode": {
    "name": "ipython",
    "version": 3
   },
   "file_extension": ".py",
   "mimetype": "text/x-python",
   "name": "python",
   "nbconvert_exporter": "python",
   "pygments_lexer": "ipython3",
   "version": "3.8.8"
  }
 },
 "nbformat": 4,
 "nbformat_minor": 5
}
