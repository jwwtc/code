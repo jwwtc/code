{
 "cells": [
  {
   "cell_type": "code",
   "execution_count": null,
   "id": "2959a99c",
   "metadata": {},
   "outputs": [],
   "source": [
    "import GPy\n",
    "import numpy as np\n",
    "from IPython.display import display"
   ]
  },
  {
   "cell_type": "code",
   "execution_count": null,
   "id": "5c7fa2d6",
   "metadata": {},
   "outputs": [],
   "source": [
    "X = np.random.uniform(-3.,3.,(20,1))\n",
    "Y = np.sin(X) + np.random.randn(20,1)*0.05"
   ]
  },
  {
   "cell_type": "code",
   "execution_count": null,
   "id": "8b64ed24",
   "metadata": {},
   "outputs": [],
   "source": [
    "kernel = GPy.kern.RBF(input_dim=1, variance=1., lengthscale=1.)"
   ]
  },
  {
   "cell_type": "code",
   "execution_count": null,
   "id": "bef3808c",
   "metadata": {},
   "outputs": [],
   "source": [
    "model = GPy.models.GPRegression(X,Y,kernel)\n",
    "display(model)\n",
    "GPy.plotting.change_plotting_library('plotly_online')"
   ]
  },
  {
   "cell_type": "code",
   "execution_count": null,
   "id": "8c80a072",
   "metadata": {},
   "outputs": [],
   "source": [
    "fig=model.plot()\n",
    "GPy.plotting.show(fig)"
   ]
  },
  {
   "cell_type": "code",
   "execution_count": null,
   "id": "a4761661",
   "metadata": {},
   "outputs": [],
   "source": [
    "GPy.plotting.show(fig, filename='basic-gpr')"
   ]
  },
  {
   "cell_type": "code",
   "execution_count": null,
   "id": "06366ae6",
   "metadata": {},
   "outputs": [],
   "source": []
  }
 ],
 "metadata": {
  "kernelspec": {
   "display_name": "Python 3",
   "language": "python",
   "name": "python3"
  },
  "language_info": {
   "codemirror_mode": {
    "name": "ipython",
    "version": 3
   },
   "file_extension": ".py",
   "mimetype": "text/x-python",
   "name": "python",
   "nbconvert_exporter": "python",
   "pygments_lexer": "ipython3",
   "version": "3.6.13"
  }
 },
 "nbformat": 4,
 "nbformat_minor": 5
}
