{
 "cells": [
  {
   "cell_type": "code",
   "execution_count": 1,
   "id": "9a62c24a",
   "metadata": {},
   "outputs": [
    {
     "name": "stderr",
     "output_type": "stream",
     "text": [
      "\n",
      "Bad key text.latex.preview in file C:\\Users\\mikep\\anaconda3\\lib\\site-packages\\matplotlib\\mpl-data\\stylelib\\_classic_test.mplstyle, line 123 ('text.latex.preview : False')\n",
      "You probably need to get an updated matplotlibrc file from\n",
      "https://github.com/matplotlib/matplotlib/blob/v3.5.1/matplotlibrc.template\n",
      "or from the matplotlib source distribution\n",
      "\n",
      "Bad key mathtext.fallback_to_cm in file C:\\Users\\mikep\\anaconda3\\lib\\site-packages\\matplotlib\\mpl-data\\stylelib\\_classic_test.mplstyle, line 155 ('mathtext.fallback_to_cm : True  # When True, use symbols from the Computer Modern')\n",
      "You probably need to get an updated matplotlibrc file from\n",
      "https://github.com/matplotlib/matplotlib/blob/v3.5.1/matplotlibrc.template\n",
      "or from the matplotlib source distribution\n",
      "\n",
      "Bad key savefig.jpeg_quality in file C:\\Users\\mikep\\anaconda3\\lib\\site-packages\\matplotlib\\mpl-data\\stylelib\\_classic_test.mplstyle, line 418 ('savefig.jpeg_quality: 95       # when a jpeg is saved, the default quality parameter.')\n",
      "You probably need to get an updated matplotlibrc file from\n",
      "https://github.com/matplotlib/matplotlib/blob/v3.5.1/matplotlibrc.template\n",
      "or from the matplotlib source distribution\n",
      "\n",
      "Bad key keymap.all_axes in file C:\\Users\\mikep\\anaconda3\\lib\\site-packages\\matplotlib\\mpl-data\\stylelib\\_classic_test.mplstyle, line 466 ('keymap.all_axes : a                 # enable all axes')\n",
      "You probably need to get an updated matplotlibrc file from\n",
      "https://github.com/matplotlib/matplotlib/blob/v3.5.1/matplotlibrc.template\n",
      "or from the matplotlib source distribution\n",
      "\n",
      "Bad key animation.avconv_path in file C:\\Users\\mikep\\anaconda3\\lib\\site-packages\\matplotlib\\mpl-data\\stylelib\\_classic_test.mplstyle, line 477 ('animation.avconv_path: avconv     # Path to avconv binary. Without full path')\n",
      "You probably need to get an updated matplotlibrc file from\n",
      "https://github.com/matplotlib/matplotlib/blob/v3.5.1/matplotlibrc.template\n",
      "or from the matplotlib source distribution\n",
      "\n",
      "Bad key animation.avconv_args in file C:\\Users\\mikep\\anaconda3\\lib\\site-packages\\matplotlib\\mpl-data\\stylelib\\_classic_test.mplstyle, line 479 ('animation.avconv_args:            # Additional arguments to pass to avconv')\n",
      "You probably need to get an updated matplotlibrc file from\n",
      "https://github.com/matplotlib/matplotlib/blob/v3.5.1/matplotlibrc.template\n",
      "or from the matplotlib source distribution\n"
     ]
    }
   ],
   "source": [
    "#Packages\n",
    "import warnings\n",
    "warnings.filterwarnings('ignore')\n",
    "import glob\n",
    "import csv\n",
    "import os\n",
    "import numpy as np\n",
    "import pandas as pd\n",
    "import matplotlib.pyplot as plt\n",
    "from sklearn.pipeline import Pipeline\n",
    "from sklearn.decomposition import PCA\n",
    "from PIL import Image\n",
    "from pymks import (\n",
    "    generate_multiphase,\n",
    "    plot_microstructures,\n",
    "    PrimitiveTransformer,\n",
    "    TwoPointCorrelation,\n",
    "    FlattenTransformer\n",
    ")"
   ]
  },
  {
   "cell_type": "code",
   "execution_count": 2,
   "id": "7f9522bf",
   "metadata": {},
   "outputs": [],
   "source": [
    "#PYTEST_VALIDATE_IGNORE_OUTPUT\n",
    "# %matplotlib inline\n",
    "%load_ext autoreload\n",
    "%autoreload 2"
   ]
  },
  {
   "cell_type": "code",
   "execution_count": 3,
   "id": "10f71f2d",
   "metadata": {},
   "outputs": [
    {
     "data": {
      "text/plain": [
       "(15, 100, 100)"
      ]
     },
     "execution_count": 3,
     "metadata": {},
     "output_type": "execute_result"
    }
   ],
   "source": [
    "tmp = [\n",
    "    generate_multiphase(\n",
    "        shape=(5, 100, 100),\n",
    "        grain_size=grain_size,\n",
    "        volume_fraction=volume_fraction,\n",
    "        chunks=50,\n",
    "        percent_variance=0.002\n",
    "    )\n",
    "    for (grain_size, volume_fraction) in zip(\n",
    "        [(20, 7), (5, 30), (20, 20)],\n",
    "        [(0.3, 0.7), (0.3, 0.7), (0.3, 0.7)]\n",
    "    )\n",
    "]\n",
    "\n",
    "x_data = np.concatenate(tmp).persist()\n",
    "x_data.shape"
   ]
  },
  {
   "cell_type": "code",
   "execution_count": 4,
   "id": "9a2852e0",
   "metadata": {},
   "outputs": [
    {
     "data": {
      "image/png": "[encoded data removed]",
      "text/plain": [
       "<Figure size 864x288 with 3 Axes>"
      ]
     },
     "metadata": {},
     "output_type": "display_data"
    }
   ],
   "source": [
    "plot_microstructures(*x_data[::6], cmap='copper_r', colorbar=False);"
   ]
  },
  {
   "cell_type": "code",
   "execution_count": 5,
   "id": "c5710213",
   "metadata": {},
   "outputs": [
    {
     "data": {
      "text/plain": [
       "(15, 100, 100, 2)"
      ]
     },
     "execution_count": 5,
     "metadata": {},
     "output_type": "execute_result"
    }
   ],
   "source": [
    "data = PrimitiveTransformer(n_state=2, min_=0.0, max_=1.0).transform(x_data)\n",
    "data.shape"
   ]
  },
  {
   "cell_type": "code",
   "execution_count": 6,
   "id": "44d88bf6",
   "metadata": {},
   "outputs": [
    {
     "data": {
      "text/plain": [
       "(15, 31, 31, 2)"
      ]
     },
     "execution_count": 6,
     "metadata": {},
     "output_type": "execute_result"
    }
   ],
   "source": [
    "two_points = TwoPointCorrelation(\n",
    "    periodic_boundary=True,\n",
    "    cutoff=15,\n",
    "    correlations=[(0, 0), (0, 1)]\n",
    ").transform(data)\n",
    "two_points.shape"
   ]
  },
  {
   "cell_type": "code",
   "execution_count": 7,
   "id": "ef1d3937",
   "metadata": {},
   "outputs": [
    {
     "data": {
      "image/png": "[encoded data removed]",
      "text/plain": [
       "<Figure size 864x288 with 4 Axes>"
      ]
     },
     "execution_count": 7,
     "metadata": {},
     "output_type": "execute_result"
    },
    {
     "data": {
      "image/png": "[encoded data removed]",
      "text/plain": [
       "<Figure size 864x288 with 4 Axes>"
      ]
     },
     "metadata": {
      "needs_background": "light"
     },
     "output_type": "display_data"
    }
   ],
   "source": [
    "plot_microstructures(\n",
    "    two_points[0, :, :, 0],\n",
    "    two_points[6, :, :, 0],\n",
    "    two_points[12, :, :, 0],\n",
    "    cmap='PuBu',\n",
    "    showticks=False\n",
    ")"
   ]
  },
  {
   "cell_type": "code",
   "execution_count": 8,
   "id": "ab66e3a2",
   "metadata": {},
   "outputs": [
    {
     "data": {
      "text/plain": [
       "(15, 1922)"
      ]
     },
     "execution_count": 8,
     "metadata": {},
     "output_type": "execute_result"
    }
   ],
   "source": [
    "reshaped_two_points=two_points.reshape(15, -1)\n",
    "reshaped_two_points.shape"
   ]
  },
  {
   "cell_type": "code",
   "execution_count": 9,
   "id": "bb3e725f",
   "metadata": {},
   "outputs": [
    {
     "name": "stdout",
     "output_type": "stream",
     "text": [
      "[[ 0.08817505  0.63499737]\n",
      " [-0.00259894  0.5464086 ]\n",
      " [-0.06810672  0.5797457 ]\n",
      " [-0.02164173  0.58030422]\n",
      " [-0.08818935  0.54536539]\n",
      " [ 0.48886829 -0.38156348]\n",
      " [ 0.7082749  -0.2592615 ]\n",
      " [ 0.67998624 -0.25974157]\n",
      " [ 0.627305   -0.1913678 ]\n",
      " [ 0.46056509 -0.33313676]\n",
      " [-0.67928499 -0.36560062]\n",
      " [-0.55371729 -0.34907754]\n",
      " [-0.41990612 -0.15492412]\n",
      " [-0.64458516 -0.26738041]\n",
      " [-0.57514427 -0.32476748]]\n"
     ]
    }
   ],
   "source": [
    "#Vertical pc scores.\n",
    "pca = PCA(svd_solver='full', n_components=2, random_state=10)\n",
    "pc_scores=pca.fit_transform(reshaped_two_points)\n",
    "pc_scores.shape\n",
    "print(pc_scores)"
   ]
  },
  {
   "cell_type": "code",
   "execution_count": 10,
   "id": "181ee754",
   "metadata": {},
   "outputs": [
    {
     "name": "stdout",
     "output_type": "stream",
     "text": [
      "[0.47046725 0.34168454]\n"
     ]
    }
   ],
   "source": [
    "#Explained variance by each principal component.\n",
    "exp_var_pca=pca.explained_variance_ratio_\n",
    "print(exp_var_pca)"
   ]
  },
  {
   "cell_type": "code",
   "execution_count": 11,
   "id": "3f23c331",
   "metadata": {},
   "outputs": [
    {
     "data": {
      "image/png": "[encoded data removed]",
      "text/plain": [
       "<Figure size 576x432 with 1 Axes>"
      ]
     },
     "metadata": {
      "needs_background": "light"
     },
     "output_type": "display_data"
    }
   ],
   "source": [
    "#Principal component analysis visualization.\n",
    "small = 10\n",
    "medium = 12\n",
    "bigger = 18\n",
    "\n",
    "plt.rc('font', size=small)          # controls default text sizes\n",
    "plt.rc('axes', titlesize=medium)     # fontsize of the axes title\n",
    "plt.rc('axes', labelsize=medium)    # fontsize of the x and y labels\n",
    "plt.rc('xtick', labelsize=small)    # fontsize of the tick labels\n",
    "plt.rc('ytick', labelsize=small)    # fontsize of the tick labels\n",
    "plt.rc('legend', fontsize=medium)    # legend fontsize\n",
    "plt.rc('figure', titlesize=bigger)  # fontsize of the figure title\n",
    "\n",
    "fig = plt.figure(figsize=(8,6))\n",
    "ax = fig.add_subplot(111)\n",
    "for i in range(0,5):\n",
    "    plt.plot(pc_scores[i,0], pc_scores[i,1], c='steelblue', marker='o')\n",
    "for j in range(5,10):\n",
    "    plt.plot(pc_scores[j,0], pc_scores[j,1], c='orange', marker='o')\n",
    "for k in range(10,15):\n",
    "    plt.plot(pc_scores[k,0], pc_scores[k,1], c='r', marker='o')\n",
    "\n",
    "plt.xlabel(\"First Principal Component (PC1)\", fontsize=20, labelpad=15)\n",
    "plt.ylabel(\"Second Principal Component (PC2)\", fontsize=20, labelpad=15)\n",
    "#plt.title(\"PCA Visualization\", fontsize=20)\n",
    "\n",
    "#plt.grid(color = 'black', linestyle = '--', linewidth = 0.4)\n",
    "ax.set_facecolor('whitesmoke')\n",
    "\n",
    "#plt.patch.set_edgecolor('black')  \n",
    "#plt.patch.set_linewidth('1')  \n",
    "\n",
    "plt.scatter(pc_scores[1,0], pc_scores[1,1], label=\"Vertical\", c='steelblue', marker='o')\n",
    "plt.scatter(pc_scores[6,0], pc_scores[6,1], label=\"Horizontal\", c='orange', marker='o')\n",
    "plt.scatter(pc_scores[11,0], pc_scores[11,1], label=\"Equiaxed in average\", c='r', marker='o')\n",
    "\n",
    "plt.legend(loc=\"upper right\")\n",
    "plt.tight_layout()\n",
    "plt.savefig(r\"C:\\Users\\mikep\\Desktop\\thesis\\figures\\two-point-figure.pdf\")\n",
    "plt.show()"
   ]
  },
  {
   "cell_type": "code",
   "execution_count": null,
   "id": "6b187c53",
   "metadata": {},
   "outputs": [],
   "source": []
  }
 ],
 "metadata": {
  "kernelspec": {
   "display_name": "Python 3 (ipykernel)",
   "language": "python",
   "name": "python3"
  },
  "language_info": {
   "codemirror_mode": {
    "name": "ipython",
    "version": 3
   },
   "file_extension": ".py",
   "mimetype": "text/x-python",
   "name": "python",
   "nbconvert_exporter": "python",
   "pygments_lexer": "ipython3",
   "version": "3.8.8"
  }
 },
 "nbformat": 4,
 "nbformat_minor": 5
}
