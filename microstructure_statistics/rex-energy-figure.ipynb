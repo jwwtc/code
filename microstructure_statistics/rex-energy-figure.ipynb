{
 "cells": [
  {
   "cell_type": "code",
   "execution_count": 1,
   "id": "88432b54",
   "metadata": {
    "scrolled": false
   },
   "outputs": [
    {
     "name": "stderr",
     "output_type": "stream",
     "text": [
      "\n",
      "Bad key text.latex.preview in file C:\\Users\\mikep\\anaconda3\\lib\\site-packages\\matplotlib\\mpl-data\\stylelib\\_classic_test.mplstyle, line 123 ('text.latex.preview : False')\n",
      "You probably need to get an updated matplotlibrc file from\n",
      "https://github.com/matplotlib/matplotlib/blob/v3.5.1/matplotlibrc.template\n",
      "or from the matplotlib source distribution\n",
      "\n",
      "Bad key mathtext.fallback_to_cm in file C:\\Users\\mikep\\anaconda3\\lib\\site-packages\\matplotlib\\mpl-data\\stylelib\\_classic_test.mplstyle, line 155 ('mathtext.fallback_to_cm : True  # When True, use symbols from the Computer Modern')\n",
      "You probably need to get an updated matplotlibrc file from\n",
      "https://github.com/matplotlib/matplotlib/blob/v3.5.1/matplotlibrc.template\n",
      "or from the matplotlib source distribution\n",
      "\n",
      "Bad key savefig.jpeg_quality in file C:\\Users\\mikep\\anaconda3\\lib\\site-packages\\matplotlib\\mpl-data\\stylelib\\_classic_test.mplstyle, line 418 ('savefig.jpeg_quality: 95       # when a jpeg is saved, the default quality parameter.')\n",
      "You probably need to get an updated matplotlibrc file from\n",
      "https://github.com/matplotlib/matplotlib/blob/v3.5.1/matplotlibrc.template\n",
      "or from the matplotlib source distribution\n",
      "\n",
      "Bad key keymap.all_axes in file C:\\Users\\mikep\\anaconda3\\lib\\site-packages\\matplotlib\\mpl-data\\stylelib\\_classic_test.mplstyle, line 466 ('keymap.all_axes : a                 # enable all axes')\n",
      "You probably need to get an updated matplotlibrc file from\n",
      "https://github.com/matplotlib/matplotlib/blob/v3.5.1/matplotlibrc.template\n",
      "or from the matplotlib source distribution\n",
      "\n",
      "Bad key animation.avconv_path in file C:\\Users\\mikep\\anaconda3\\lib\\site-packages\\matplotlib\\mpl-data\\stylelib\\_classic_test.mplstyle, line 477 ('animation.avconv_path: avconv     # Path to avconv binary. Without full path')\n",
      "You probably need to get an updated matplotlibrc file from\n",
      "https://github.com/matplotlib/matplotlib/blob/v3.5.1/matplotlibrc.template\n",
      "or from the matplotlib source distribution\n",
      "\n",
      "Bad key animation.avconv_args in file C:\\Users\\mikep\\anaconda3\\lib\\site-packages\\matplotlib\\mpl-data\\stylelib\\_classic_test.mplstyle, line 479 ('animation.avconv_args:            # Additional arguments to pass to avconv')\n",
      "You probably need to get an updated matplotlibrc file from\n",
      "https://github.com/matplotlib/matplotlib/blob/v3.5.1/matplotlibrc.template\n",
      "or from the matplotlib source distribution\n"
     ]
    }
   ],
   "source": [
    "#Packages\n",
    "import warnings\n",
    "warnings.filterwarnings('ignore')\n",
    "import glob\n",
    "import csv\n",
    "import numpy as np\n",
    "import pandas as pd\n",
    "import matplotlib.pyplot as plt\n",
    "from sklearn.pipeline import Pipeline\n",
    "from itertools import cycle, islice\n",
    "from sklearn.decomposition import PCA\n",
    "from PIL import Image\n",
    "from pymks import (plot_microstructures, PrimitiveTransformer, TwoPointCorrelation)"
   ]
  },
  {
   "cell_type": "code",
   "execution_count": 2,
   "id": "a75b2b7e",
   "metadata": {
    "scrolled": false
   },
   "outputs": [],
   "source": [
    "%matplotlib inline\n",
    "%reload_ext autoreload\n",
    "%autoreload 2"
   ]
  },
  {
   "cell_type": "code",
   "execution_count": null,
   "id": "4e2bb478",
   "metadata": {
    "scrolled": false
   },
   "outputs": [],
   "source": [
    "#Append images all to one list.\n",
    "images = []\n",
    "for filename in glob.glob(r'C:\\Users\\mikep\\Desktop\\project\\data\\evolution\\binarized\\*.tif'):\n",
    "    im=Image.open(filename)\n",
    "    images.append(im)\n",
    "np.shape(images[0])"
   ]
  },
  {
   "cell_type": "code",
   "execution_count": null,
   "id": "6743cf8f",
   "metadata": {
    "scrolled": false
   },
   "outputs": [],
   "source": [
    "#List comprehension to convert the members of the \"images\" list to arrays.\n",
    "imarrays = [np.array(x) for x in images]\n",
    "imarrays[0].shape"
   ]
  },
  {
   "cell_type": "code",
   "execution_count": null,
   "id": "e77bc875",
   "metadata": {
    "scrolled": false
   },
   "outputs": [],
   "source": [
    "#Stacking all image arrays to create the 'sample' dimension and to convert the list to an array.\n",
    "data_a = np.stack(imarrays, axis=0)\n",
    "data_a.shape"
   ]
  },
  {
   "cell_type": "code",
   "execution_count": null,
   "id": "b179211b",
   "metadata": {
    "scrolled": false
   },
   "outputs": [],
   "source": [
    "#Visualization of the microstructures.\n",
    "plot_microstructures(*data_a[0:41], cmap='PuBu', colorbar=False)"
   ]
  },
  {
   "cell_type": "code",
   "execution_count": null,
   "id": "060ae402",
   "metadata": {
    "scrolled": false
   },
   "outputs": [],
   "source": [
    "#List comprehension to add the \"phases\" axis with the PrimitiveTransformer class.\n",
    "data = PrimitiveTransformer(n_state=2, min_=0.0, max_=1.0).transform(data_a)\n",
    "data.shape"
   ]
  },
  {
   "cell_type": "code",
   "execution_count": null,
   "id": "de4ca337",
   "metadata": {
    "scrolled": false
   },
   "outputs": [],
   "source": [
    "#Swaping the columns to solve the evolution issue.\n",
    "data[:, :, :, [0, 1]]= data[:, :, :, [1, 0]]"
   ]
  },
  {
   "cell_type": "code",
   "execution_count": null,
   "id": "ce051084",
   "metadata": {
    "scrolled": false
   },
   "outputs": [],
   "source": [
    "#Initial and middle microstructures.\n",
    "plot_microstructures(data[10, :, :, 0], data[25, :, :, 0], data[39, :, :, 0], titles=['Initial', 'Middle', 'Final'], cmap='PuBu_r', colorbar=False)"
   ]
  },
  {
   "cell_type": "code",
   "execution_count": null,
   "id": "92ac8d72",
   "metadata": {
    "scrolled": false
   },
   "outputs": [],
   "source": [
    "#Calculating two-point statistics.\n",
    "two_points = TwoPointCorrelation(periodic_boundary=True, cutoff=130, correlations=[(0, 0), (0, 1)]).transform(data)\n",
    "initial_shape = two_points.shape\n",
    "initial_shape"
   ]
  },
  {
   "cell_type": "code",
   "execution_count": null,
   "id": "2288042a",
   "metadata": {
    "scrolled": false
   },
   "outputs": [],
   "source": [
    "#Initial two-point statistics.\n",
    "plot_microstructures(two_points[10, :, :, 0], titles=['Initial'], cmap='PuBu_r', showticks=False)"
   ]
  },
  {
   "cell_type": "code",
   "execution_count": null,
   "id": "1cabb695",
   "metadata": {
    "scrolled": false
   },
   "outputs": [],
   "source": [
    "#Middle two-point statistics.\n",
    "plot_microstructures(two_points[25, :, :, 0], titles=['Middle'], cmap='PuBu_r', showticks=False)"
   ]
  },
  {
   "cell_type": "code",
   "execution_count": null,
   "id": "a9e90a9f",
   "metadata": {
    "scrolled": false
   },
   "outputs": [],
   "source": [
    "#Final two-point statistics.\n",
    "plot_microstructures(two_points[39, :, :, 0], titles=['Final'], cmap='PuBu_r', showticks=False)"
   ]
  },
  {
   "cell_type": "code",
   "execution_count": null,
   "id": "8deb5ddd",
   "metadata": {
    "scrolled": false
   },
   "outputs": [],
   "source": [
    "#Recrystallized Volume Fraction\n",
    "print('Recrystallized Volume Fraction 10 = ', two_points[10, 130, 130, 0].compute())\n",
    "print('Recrystallized Volume Fraction 25 = ', two_points[25, 130, 130, 0].compute())\n",
    "print('Recrystallized Volume Fraction 39 = ', two_points[39, 130, 130, 0].compute())"
   ]
  },
  {
   "cell_type": "code",
   "execution_count": null,
   "id": "1332414b",
   "metadata": {
    "scrolled": true
   },
   "outputs": [],
   "source": [
    "#list with recrystallized fraction\n",
    "rex_fraction_list=[]\n",
    "for i in range(40):\n",
    "    rex_fraction_list.insert(i, two_points[i, 130, 130, 0].compute())"
   ]
  },
  {
   "cell_type": "code",
   "execution_count": null,
   "id": "e9830e66",
   "metadata": {
    "scrolled": false
   },
   "outputs": [],
   "source": [
    "df_rex=pd.DataFrame(rex_fraction_list)\n",
    "df_rex.rename(columns={df_rex.columns[0]: \"Two-Point Statistics\" }, inplace = True)"
   ]
  },
  {
   "cell_type": "code",
   "execution_count": null,
   "id": "8c046e9f",
   "metadata": {
    "scrolled": false
   },
   "outputs": [],
   "source": [
    "#normalize the data to account for grain boundaries\n",
    "normalized_rex = (rex_fraction_list-min(rex_fraction_list))/(max(rex_fraction_list)-min(rex_fraction_list))\n",
    "df_rex['Normalized'] = (normalized_rex)\n",
    "\n",
    "micress = pd.read_csv(r'C:\\Users\\mikep\\Desktop\\thesis\\figures\\ReX-Fraction\\ReX-figure.csv')\n",
    "micress['Phase-Field']=micress['Phase-Field']*0.01\n",
    "df_rex['Phase-Field']= micress['Phase-Field'].values\n",
    "\n",
    "time_steps = pd.Series(np.arange(0,40))\n",
    "df_rex.insert(loc=0, column='Time Steps', value=time_steps)\n",
    "df_rex"
   ]
  },
  {
   "cell_type": "code",
   "execution_count": null,
   "id": "686599eb",
   "metadata": {
    "scrolled": false
   },
   "outputs": [],
   "source": [
    "#csv file with rex fraction\n",
    "df_rex.to_csv(r'C:\\Users\\mikep\\Desktop\\project\\data\\rex_fraction_evolution.csv')"
   ]
  },
  {
   "cell_type": "code",
   "execution_count": null,
   "id": "cc88eedb",
   "metadata": {
    "scrolled": false
   },
   "outputs": [],
   "source": [
    "#plot rex fraction evolution (two points vs. normalized)\n",
    "plt.rcParams.update({'font.size': 15})\n",
    "\n",
    "my_colors = list(islice(cycle(['black', '#66c2a5']), None, len(df_rex)))\n",
    "rex_fig = df_rex.plot(x ='Time Steps', y=['Two-Point Statistics', 'Normalized'],\n",
    "                      figsize=(12, 10), color=my_colors, linewidth=3, marker='o', markersize=5)\n",
    "\n",
    "plt.tick_params(axis=\"both\", size=15, direction=\"in\", pad=8)\n",
    "plt.legend(frameon=False, bbox_to_anchor=(0.05, 0.95), loc='upper left', borderaxespad=0)\n",
    "\n",
    "rex_fig.patch.set_edgecolor('black')\n",
    "rex_fig.patch.set_linewidth('2')\n",
    "\n",
    "rex_fig.set_xlabel(\"Time Step\", fontsize=23, labelpad=15)\n",
    "rex_fig.set_ylabel(\"Recrystallized Fraction\", fontsize=23, labelpad=15)\n",
    "\n",
    "plt.xlim([0.1, 39])\n",
    "plt.ylim([0, 1])\n",
    "\n",
    "rex_fig.figure.savefig(r'C:\\Users\\mikep\\Desktop\\thesis\\figures\\ReX-Fraction\\two_points-normalized.png', facecolor='w', dpi=600)"
   ]
  },
  {
   "cell_type": "code",
   "execution_count": 4,
   "id": "f1a6276b",
   "metadata": {},
   "outputs": [],
   "source": [
    "df_energy = pd.read_csv(r'C:\\Users\\mikep\\Desktop\\rex-energy.csv')"
   ]
  },
  {
   "cell_type": "code",
   "execution_count": 12,
   "id": "8f3ac0c7",
   "metadata": {},
   "outputs": [
    {
     "data": {
      "image/png": "[encoded data removed]",
      "text/plain": [
       "<Figure size 1008x720 with 1 Axes>"
      ]
     },
     "metadata": {
      "needs_background": "light"
     },
     "output_type": "display_data"
    }
   ],
   "source": [
    "#plot rex fraction evolution (two points vs. normalized)\n",
    "plt.rcParams.update({'font.size': 15})\n",
    "\n",
    "energy_fig = df_energy.plot(x='Duration (seconds)', y='Stored Energy (Joules)',\n",
    "                      figsize=(14, 10), color='#636363', linewidth=3, \n",
    "                        marker='o', markersize=8, markerfacecolor='#9ecae1', legend=None)\n",
    "\n",
    "plt.tick_params(axis=\"both\", size=5, direction=\"in\", pad=8)\n",
    "plt.ticklabel_format(axis=\"y\", style=\"sci\", scilimits=(0,0))\n",
    "\n",
    "energy_fig.patch.set_edgecolor('black')\n",
    "energy_fig.patch.set_linewidth('2')\n",
    "\n",
    "energy_fig.set_xlabel(\"Duration (seconds)\", fontsize=23, labelpad=15)\n",
    "energy_fig.set_ylabel(\"Stored Energy (Joules)\", fontsize=23, labelpad=15)\n",
    "\n",
    "#plt.xlim([0, 10000])\n",
    "#plt.ylim([4.5E+02, 2.8E+05])\n",
    "\n",
    "energy_fig.figure.savefig(r'C:\\Users\\mikep\\Desktop\\rex-energy.png', facecolor='w', dpi=600)"
   ]
  },
  {
   "cell_type": "code",
   "execution_count": null,
   "id": "0b34c61c",
   "metadata": {},
   "outputs": [],
   "source": [
    "#plot rex fraction evolution (normalized vs. phase-field)\n",
    "plt.rcParams.update({'font.size': 15})\n",
    "\n",
    "my_colors = list(islice(cycle(['black', '#fc8d62']), None, len(df_rex)))\n",
    "rex_fig = df_rex.plot(x ='Time Steps', y=['Normalized', 'Phase-Field'],\n",
    "                      figsize=(12, 10), color=my_colors, linewidth=3, marker='o', markersize=5)\n",
    "\n",
    "plt.tick_params(axis=\"both\", size=15, direction=\"in\", pad=8)\n",
    "plt.legend(frameon=False, bbox_to_anchor=(0.05, 0.95), loc='upper left', borderaxespad=0)\n",
    "\n",
    "rex_fig.patch.set_edgecolor('black')\n",
    "rex_fig.patch.set_linewidth('2')\n",
    "\n",
    "rex_fig.set_xlabel(\"Time Step\", fontsize=23, labelpad=15)\n",
    "rex_fig.set_ylabel(\"Recrystallized Fraction\", fontsize=23, labelpad=15)\n",
    "\n",
    "plt.xlim([0.1, 39])\n",
    "plt.ylim([0, 1])\n",
    "\n",
    "rex_fig.figure.savefig(r'C:\\Users\\mikep\\Desktop\\thesis\\figures\\ReX-Fraction\\normalized-phase_field.png', facecolor='w', dpi=600)"
   ]
  },
  {
   "cell_type": "code",
   "execution_count": null,
   "id": "f63872ea",
   "metadata": {
    "scrolled": false
   },
   "outputs": [],
   "source": [
    "#Reshape the two-point statistics for the PCA model.\n",
    "reshaped_two_points=two_points.reshape(40, -1)\n",
    "reshaped_two_points.shape"
   ]
  },
  {
   "cell_type": "code",
   "execution_count": null,
   "id": "d1e163a0",
   "metadata": {
    "scrolled": false
   },
   "outputs": [],
   "source": [
    "#PCA\n",
    "pca = PCA(svd_solver='full', n_components=3)\n",
    "pc_scores=pca.fit_transform(reshaped_two_points)\n",
    "pc_scores.shape"
   ]
  },
  {
   "cell_type": "code",
   "execution_count": null,
   "id": "aab65d01",
   "metadata": {
    "scrolled": true
   },
   "outputs": [],
   "source": [
    "print(pca.components_) \n",
    "print(pca.components_.shape)"
   ]
  },
  {
   "cell_type": "code",
   "execution_count": null,
   "id": "04a8d058",
   "metadata": {
    "scrolled": true
   },
   "outputs": [],
   "source": [
    "#First principal component (PC1). \n",
    "pc1, pc2, pc3 = np.split(pc_scores, 3, axis=1)\n",
    "print(pc1.shape)\n",
    "print(pc1)\n",
    "##Note: No \"axis=1\" in order to obtain pc-scores for different microstructure classes."
   ]
  },
  {
   "cell_type": "code",
   "execution_count": null,
   "id": "3be51650",
   "metadata": {
    "scrolled": false
   },
   "outputs": [],
   "source": [
    "zeros=np.zeros((40, 2))\n",
    "reshaped_pc1=np.hstack((pc1,zeros))\n",
    "print(reshaped_pc1)\n",
    "print(reshaped_pc1.shape)\n",
    "print(reshaped_pc1[26])"
   ]
  },
  {
   "cell_type": "code",
   "execution_count": null,
   "id": "8e35bbf4",
   "metadata": {
    "scrolled": false
   },
   "outputs": [],
   "source": [
    "#Explained variance by each principal component.\n",
    "exp_var_pca=pca.explained_variance_ratio_*100\n",
    "cum_sum=np.cumsum(pca.explained_variance_ratio_)*100\n",
    "cum_sum_2d = [ '%.2f' % elem for elem in cum_sum ]\n",
    "cum_sum_2d = np.array(cum_sum_2d)\n",
    "\n",
    "print(exp_var_pca)"
   ]
  },
  {
   "cell_type": "code",
   "execution_count": null,
   "id": "70e2de38",
   "metadata": {
    "scrolled": false
   },
   "outputs": [],
   "source": [
    "#plot explained variance\n",
    "\n",
    "fig = plt.figure(1, figsize=(12, 10))\n",
    "\n",
    "x1 = range(1, len(exp_var_pca)+1)\n",
    "y1 = exp_var_pca\n",
    "x2 = range(1, len(cum_sum)+1)\n",
    "y2 = cum_sum\n",
    "\n",
    "plt.bar(x1, y1, color='#999999', edgecolor='black', linewidth='1', alpha=0.9, width = 0.5, align='center', label='Individual explained variance')\n",
    "\n",
    "plt.plot(x2, y2, label='Cumulative explained variance', c='black', linewidth=3)\n",
    "plt.scatter(x2, y2, s=80, facecolors='black', edgecolors='black')\n",
    "\n",
    "for i, txt in enumerate(cum_sum_2d):\n",
    "    plt.annotate(txt, (x2[i], y2[i]), size=15, xytext=(x2[i], y2[i]+3))\n",
    "    \n",
    "plt.xlabel('Principal Component Index', fontsize=23, labelpad=15)\n",
    "plt.ylabel('Explained Variance Ratio', fontsize=23, labelpad=15)\n",
    "\n",
    "plt.xticks(np.arange(1, 4, step=1), fontsize=20)\n",
    "plt.yticks(fontsize=20)\n",
    "\n",
    "plt.legend(frameon=False, loc='best')\n",
    "plt.ylim([0, 108])\n",
    "\n",
    "#fig.savefig(r'C:\\Users\\mikep\\Desktop\\thesis\\figures\\explained_variance.png', dpi=600)\n",
    "plt.show()"
   ]
  },
  {
   "cell_type": "code",
   "execution_count": null,
   "id": "344d6734",
   "metadata": {
    "scrolled": false
   },
   "outputs": [],
   "source": [
    "#Principal component analysis visualization.\n",
    "\n",
    "fig = plt.figure(figsize=(15, 12))\n",
    "ax = fig.add_subplot(111)\n",
    "\n",
    "plt.scatter(pc_scores[:,0], pc_scores[:,1], c='black', marker='o', s=10) # markeredgecolor='black') \n",
    "plt.plot(pc_scores[:,0], pc_scores[:,1], c='skyblue', ls='--')\n",
    "\n",
    "ax.set_xlabel(\"First Principal Component (PC1)\",  fontsize=22, labelpad=20)\n",
    "ax.set_ylabel(\"Second Principal Component (PC2)\",  fontsize=22, labelpad=20)\n",
    "\n",
    "ax.tick_params(axis=\"both\", size=15, direction=\"in\", pad=8)\n",
    "\n",
    "#ax.set_title('Time Evolution of PC-scores', fontsize=30, pad=20)\n",
    "\n",
    "ax.grid(which='major', axis='both', linestyle = '--', linewidth = 0.5)\n",
    "\n",
    "ax.patch.set_edgecolor('black')\n",
    "ax.patch.set_linewidth('2') \n",
    "\n",
    "n = range(0,40)\n",
    "for i, txt in enumerate(n):\n",
    "    plt.annotate(txt, (pc_scores[i,0], pc_scores[i,1]), xytext=(pc_scores[i,0]+1, pc_scores[i,1]+0.9), size=10)\n",
    "\n",
    "fig.savefig(r'C:\\Users\\mikep\\Desktop\\thesis\\figures\\pc-evolution.png', facecolor='w', dpi=600)\n",
    "fig.show()"
   ]
  },
  {
   "cell_type": "code",
   "execution_count": null,
   "id": "5537490c",
   "metadata": {
    "scrolled": true
   },
   "outputs": [],
   "source": [
    "#Inverting and reshaping the data.\n",
    "\n",
    "two_points_inv_pc = pca.inverse_transform(pc_scores)\n",
    "two_points_inv_pc1 = pca.inverse_transform(reshaped_pc1)\n",
    "\n",
    "recovered_two_points_pc = np.reshape(two_points_inv_pc, initial_shape)\n",
    "recovered_two_points_pc1 = np.reshape(two_points_inv_pc1, initial_shape)\n",
    "\n",
    "print(two_points_inv_pc.shape)\n",
    "print(recovered_two_points_pc.shape)\n",
    "print(recovered_two_points_pc)"
   ]
  },
  {
   "cell_type": "code",
   "execution_count": null,
   "id": "5be9fabc",
   "metadata": {
    "scrolled": false
   },
   "outputs": [],
   "source": [
    "#Recovered two-point statistics using both PC scores. \n",
    "plot_microstructures(recovered_two_points_pc[25, :, :, 0], titles=['Middle'], cmap='PuBu_r', showticks=False)"
   ]
  },
  {
   "cell_type": "code",
   "execution_count": null,
   "id": "e3492fc0",
   "metadata": {
    "scrolled": false
   },
   "outputs": [],
   "source": [
    "#Recovered first two-point statistics using only PC1. recovered_two_points_pc1[0, :, :, 0], \n",
    "plot_microstructures(recovered_two_points_pc1[25, :, :, 0], titles=['Middle'], cmap='PuBu_r', showticks=False)"
   ]
  },
  {
   "cell_type": "code",
   "execution_count": null,
   "id": "5c321ef0",
   "metadata": {
    "scrolled": false
   },
   "outputs": [],
   "source": [
    "#Save the pc scores.\n",
    "df1 = pd.DataFrame(pc1)\n",
    "df1.to_csv(r'C:\\Users\\mikep\\Desktop\\project\\data\\pc_scores\\pc1_evolution.csv')"
   ]
  },
  {
   "cell_type": "code",
   "execution_count": null,
   "id": "604d5ad3",
   "metadata": {
    "scrolled": false
   },
   "outputs": [],
   "source": [
    "zeros2=np.zeros((40, 3))\n",
    "zeros2[(0,0)]=55.14937987\n",
    "print(zeros2)"
   ]
  },
  {
   "cell_type": "code",
   "execution_count": null,
   "id": "8ad5b645",
   "metadata": {
    "scrolled": false
   },
   "outputs": [],
   "source": [
    "two_points_inv_pcnew = pca.inverse_transform(zeros2)\n",
    "print(two_points_inv_pcnew.shape)"
   ]
  },
  {
   "cell_type": "code",
   "execution_count": null,
   "id": "e8f78a09",
   "metadata": {
    "scrolled": false
   },
   "outputs": [],
   "source": [
    "recovered_two_points = np.reshape(two_points_inv_pcnew, initial_shape)\n",
    "print(recovered_two_points.shape)"
   ]
  },
  {
   "cell_type": "code",
   "execution_count": null,
   "id": "427f01e1",
   "metadata": {
    "scrolled": false
   },
   "outputs": [],
   "source": [
    "plot_microstructures(recovered_two_points[25, :, :, 0], titles=['projected'], cmap='PuBu_r', showticks=False)"
   ]
  },
  {
   "cell_type": "code",
   "execution_count": null,
   "id": "d90fc55a",
   "metadata": {},
   "outputs": [],
   "source": []
  }
 ],
 "metadata": {
  "kernelspec": {
   "display_name": "Python 3 (ipykernel)",
   "language": "python",
   "name": "python3"
  },
  "language_info": {
   "codemirror_mode": {
    "name": "ipython",
    "version": 3
   },
   "file_extension": ".py",
   "mimetype": "text/x-python",
   "name": "python",
   "nbconvert_exporter": "python",
   "pygments_lexer": "ipython3",
   "version": "3.8.8"
  }
 },
 "nbformat": 4,
 "nbformat_minor": 5
}
