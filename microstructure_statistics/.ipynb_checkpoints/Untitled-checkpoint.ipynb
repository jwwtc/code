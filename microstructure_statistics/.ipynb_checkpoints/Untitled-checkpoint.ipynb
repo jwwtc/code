{
 "cells": [
  {
   "cell_type": "code",
   "execution_count": 1,
   "id": "8933b068",
   "metadata": {},
   "outputs": [],
   "source": [
    "from PIL import Image\n",
    "from collections import Counter\n",
    "import numpy as np"
   ]
  },
  {
   "cell_type": "code",
   "execution_count": 3,
   "id": "52a97d67",
   "metadata": {},
   "outputs": [
    {
     "name": "stdout",
     "output_type": "stream",
     "text": [
      "(285, 343, 4)\n",
      "(285, 343, 4)\n"
     ]
    }
   ],
   "source": [
    "pc = Image.open(r'C:\\Users\\mikep\\Desktop\\pc.png')\n",
    "pc1 = Image.open(r'C:\\Users\\mikep\\Desktop\\pc1.png')\n",
    "no_pc = Image.open(r'C:\\Users\\mikep\\Desktop\\no_pc.png')\n",
    "pc_arr = np.asarray(pc)\n",
    "pc1_arr = np.asarray(pc1)\n",
    "no_pc_arr = np.asarray(no_pc)\n",
    "print(np.shape(pc_arr))\n",
    "print(np.shape(no_pc_arr))"
   ]
  },
  {
   "cell_type": "code",
   "execution_count": 4,
   "id": "bd7b39b7",
   "metadata": {},
   "outputs": [
    {
     "name": "stdout",
     "output_type": "stream",
     "text": [
      "(391020,)\n"
     ]
    }
   ],
   "source": [
    "pc_flat = pc_arr.flatten()\n",
    "pc1_flat = pc1_arr.flatten()\n",
    "no_pc_flat = no_pc_arr.flatten()\n",
    "print(np.shape(pc_flat))"
   ]
  },
  {
   "cell_type": "code",
   "execution_count": 5,
   "id": "148b441c",
   "metadata": {},
   "outputs": [],
   "source": [
    "RH1 = Counter(pc_flat)\n",
    "RH2 = Counter(pc1_flat)\n",
    "RH3 = Counter(no_pc_flat)"
   ]
  },
  {
   "cell_type": "code",
   "execution_count": 6,
   "id": "cb5131b3",
   "metadata": {},
   "outputs": [],
   "source": [
    "H1 = []\n",
    "for i in range(256):\n",
    "    if i in RH1.keys():\n",
    "        H1.append(RH1[i])\n",
    "    else:\n",
    "        H1.append(0)"
   ]
  },
  {
   "cell_type": "code",
   "execution_count": 7,
   "id": "7f0352e3",
   "metadata": {},
   "outputs": [],
   "source": [
    "H2 = []\n",
    "for i in range(256):\n",
    "    if i in RH2.keys():\n",
    "        H2.append(RH2[i])\n",
    "    else:\n",
    "        H2.append(0)"
   ]
  },
  {
   "cell_type": "code",
   "execution_count": 8,
   "id": "91af1649",
   "metadata": {},
   "outputs": [],
   "source": [
    "H3 = []\n",
    "for i in range(256):\n",
    "    if i in RH3.keys():\n",
    "        H3.append(RH3[i])\n",
    "    else:\n",
    "        H3.append(0)"
   ]
  },
  {
   "cell_type": "code",
   "execution_count": 9,
   "id": "9f2728a0",
   "metadata": {},
   "outputs": [],
   "source": [
    "def L2Norm(H1,H2):\n",
    "    distance =0\n",
    "    for i in range(len(H1)):\n",
    "        distance += np.square(H1[i]-H2[i])\n",
    "    return np.sqrt(distance)"
   ]
  },
  {
   "cell_type": "code",
   "execution_count": 10,
   "id": "1659c368",
   "metadata": {},
   "outputs": [
    {
     "name": "stdout",
     "output_type": "stream",
     "text": [
      "The distance between pc and no_pc is : 87.08616422830896\n"
     ]
    }
   ],
   "source": [
    "distance1 = L2Norm(H1,H3)\n",
    "print(\"The distance between pc and no_pc is : {}\".format(distance1))"
   ]
  },
  {
   "cell_type": "code",
   "execution_count": 11,
   "id": "2f41adfe",
   "metadata": {},
   "outputs": [
    {
     "name": "stdout",
     "output_type": "stream",
     "text": [
      "The distance between pc1 and no_pc is : 600.9958402518274\n"
     ]
    }
   ],
   "source": [
    "distance2 = L2Norm(H2,H3)\n",
    "print(\"The distance between pc1 and no_pc is : {}\".format(distance2))"
   ]
  },
  {
   "cell_type": "code",
   "execution_count": null,
   "id": "7781bcf5",
   "metadata": {},
   "outputs": [],
   "source": []
  }
 ],
 "metadata": {
  "kernelspec": {
   "display_name": "Python 3 (ipykernel)",
   "language": "python",
   "name": "python3"
  },
  "language_info": {
   "codemirror_mode": {
    "name": "ipython",
    "version": 3
   },
   "file_extension": ".py",
   "mimetype": "text/x-python",
   "name": "python",
   "nbconvert_exporter": "python",
   "pygments_lexer": "ipython3",
   "version": "3.9.12"
  }
 },
 "nbformat": 4,
 "nbformat_minor": 5
}
