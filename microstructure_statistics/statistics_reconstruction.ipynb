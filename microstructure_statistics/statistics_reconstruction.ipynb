{
 "cells": [
  {
   "cell_type": "code",
   "execution_count": 17,
   "id": "88432b54",
   "metadata": {},
   "outputs": [],
   "source": [
    "#Packages\n",
    "import warnings\n",
    "warnings.filterwarnings('ignore')\n",
    "import glob\n",
    "import csv\n",
    "import numpy as np\n",
    "import pandas as pd\n",
    "import matplotlib.pyplot as plt\n",
    "from sklearn.pipeline import Pipeline\n",
    "from sklearn.decomposition import PCA\n",
    "from PIL import Image\n",
    "from pymks import (plot_microstructures, PrimitiveTransformer, TwoPointCorrelation)"
   ]
  },
  {
   "cell_type": "code",
   "execution_count": 11,
   "id": "a75b2b7e",
   "metadata": {},
   "outputs": [],
   "source": [
    "%matplotlib inline\n",
    "%reload_ext autoreload\n",
    "%autoreload 2"
   ]
  },
  {
   "cell_type": "code",
   "execution_count": 12,
   "id": "989afc09",
   "metadata": {},
   "outputs": [
    {
     "data": {
      "text/html": [
       "<div>\n",
       "<style scoped>\n",
       "    .dataframe tbody tr th:only-of-type {\n",
       "        vertical-align: middle;\n",
       "    }\n",
       "\n",
       "    .dataframe tbody tr th {\n",
       "        vertical-align: top;\n",
       "    }\n",
       "\n",
       "    .dataframe thead th {\n",
       "        text-align: right;\n",
       "    }\n",
       "</style>\n",
       "<table border=\"1\" class=\"dataframe\">\n",
       "  <thead>\n",
       "    <tr style=\"text-align: right;\">\n",
       "      <th></th>\n",
       "      <th>pc1</th>\n",
       "    </tr>\n",
       "  </thead>\n",
       "  <tbody>\n",
       "    <tr>\n",
       "      <th>0</th>\n",
       "      <td>2.304664</td>\n",
       "    </tr>\n",
       "    <tr>\n",
       "      <th>1</th>\n",
       "      <td>1.302818</td>\n",
       "    </tr>\n",
       "    <tr>\n",
       "      <th>2</th>\n",
       "      <td>0.897068</td>\n",
       "    </tr>\n",
       "    <tr>\n",
       "      <th>3</th>\n",
       "      <td>0.430092</td>\n",
       "    </tr>\n",
       "    <tr>\n",
       "      <th>4</th>\n",
       "      <td>0.020999</td>\n",
       "    </tr>\n",
       "  </tbody>\n",
       "</table>\n",
       "</div>"
      ],
      "text/plain": [
       "        pc1\n",
       "0  2.304664\n",
       "1  1.302818\n",
       "2  0.897068\n",
       "3  0.430092\n",
       "4  0.020999"
      ]
     },
     "execution_count": 12,
     "metadata": {},
     "output_type": "execute_result"
    }
   ],
   "source": [
    "#Load pc1 array.\n",
    "df=pd.read_csv(r'C:\\Users\\mikep\\Desktop\\project\\data\\pc_scores\\pc1.csv')\n",
    "df.head()"
   ]
  },
  {
   "cell_type": "code",
   "execution_count": 13,
   "id": "e794a820",
   "metadata": {},
   "outputs": [],
   "source": [
    "#Convert dataframe to array.\n",
    "pc1=df.to_numpy()"
   ]
  },
  {
   "cell_type": "code",
   "execution_count": 14,
   "id": "3be51650",
   "metadata": {},
   "outputs": [
    {
     "name": "stdout",
     "output_type": "stream",
     "text": [
      "[[ 2.30466416  0.          0.          0.          0.        ]\n",
      " [ 1.30281791  0.          0.          0.          0.        ]\n",
      " [ 0.8970682   0.          0.          0.          0.        ]\n",
      " [ 0.43009174  0.          0.          0.          0.        ]\n",
      " [ 0.02099868  0.          0.          0.          0.        ]\n",
      " [-0.31872673  0.          0.          0.          0.        ]\n",
      " [-0.61210145  0.          0.          0.          0.        ]\n",
      " [-1.13444524  0.          0.          0.          0.        ]\n",
      " [-1.34943755  0.          0.          0.          0.        ]\n",
      " [-1.54092971  0.          0.          0.          0.        ]]\n",
      "(10, 5)\n"
     ]
    }
   ],
   "source": [
    "zeros=np.zeros((10,4))\n",
    "reshaped_pc1=np.hstack((pc1,zeros))\n",
    "print(reshaped_pc1)\n",
    "print(reshaped_pc1.shape)"
   ]
  },
  {
   "cell_type": "code",
   "execution_count": null,
   "id": "344d6734",
   "metadata": {},
   "outputs": [],
   "source": [
    "#Principal component analysis visualization.\n",
    "fig = plt.figure(figsize=(8,6))\n",
    "ax = fig.add_subplot(111)\n",
    "plt.scatter(pc_scores[:,0], pc_scores[:,1], c='b', marker='+') \n",
    "ax.set_xlabel(\"First Principal Component (PC1)\")\n",
    "ax.set_ylabel(\"Second Principal Component (PC2)\")\n",
    "ax.set_title(\"PCA Visualization\")\n",
    "plt.grid(color = 'black', linestyle = '--', linewidth = 0.5)\n",
    "ax.patch.set_edgecolor('black')  \n",
    "ax.patch.set_linewidth('5')  \n",
    "n = range(1,11)\n",
    "for i, txt in enumerate(n):\n",
    "    plt.annotate(txt, (pc_scores[i,0], pc_scores[i,1]))\n",
    "plt.colorbar()\n",
    "plt.show()"
   ]
  },
  {
   "cell_type": "code",
   "execution_count": 15,
   "id": "5537490c",
   "metadata": {},
   "outputs": [
    {
     "ename": "NameError",
     "evalue": "name 'pca' is not defined",
     "output_type": "error",
     "traceback": [
      "\u001b[1;31m---------------------------------------------------------------------------\u001b[0m",
      "\u001b[1;31mNameError\u001b[0m                                 Traceback (most recent call last)",
      "Input \u001b[1;32mIn [15]\u001b[0m, in \u001b[0;36m<cell line: 3>\u001b[1;34m()\u001b[0m\n\u001b[0;32m      1\u001b[0m \u001b[38;5;66;03m#Inverting and reshaping the data.\u001b[39;00m\n\u001b[0;32m      2\u001b[0m \u001b[38;5;66;03m#two_points_inv_pc = pca.inverse_transform(pc_scores)\u001b[39;00m\n\u001b[1;32m----> 3\u001b[0m two_points_inv_pc1 \u001b[38;5;241m=\u001b[39m \u001b[43mpca\u001b[49m\u001b[38;5;241m.\u001b[39minverse_transform(reshaped_pc1)\n\u001b[0;32m      4\u001b[0m \u001b[38;5;66;03m#recovered_two_points_pc = np.reshape(two_points_inv_pc,initial_shape)\u001b[39;00m\n\u001b[0;32m      5\u001b[0m recovered_two_points_pc1 \u001b[38;5;241m=\u001b[39m np\u001b[38;5;241m.\u001b[39mreshape(two_points_inv_pc1,initial_shape)\n",
      "\u001b[1;31mNameError\u001b[0m: name 'pca' is not defined"
     ]
    }
   ],
   "source": [
    "#Inverting and reshaping the data.\n",
    "#two_points_inv_pc = pca.inverse_transform(pc_scores)\n",
    "two_points_inv_pc1 = pca.inverse_transform(reshaped_pc1)\n",
    "#recovered_two_points_pc = np.reshape(two_points_inv_pc,initial_shape)\n",
    "recovered_two_points_pc1 = np.reshape(two_points_inv_pc1,initial_shape)\n",
    "print(two_points_inv_pc1.shape)\n",
    "print(recovered_two_points_pc1.shape)"
   ]
  },
  {
   "cell_type": "code",
   "execution_count": null,
   "id": "1248fb9f",
   "metadata": {},
   "outputs": [],
   "source": [
    "#Recovered two-point statistics using only PC1.\n",
    "plot_microstructures(recovered_two_points_pc1[9, :, :, 0], titles=['Final'], showticks=True)"
   ]
  },
  {
   "cell_type": "code",
   "execution_count": 16,
   "id": "5c321ef0",
   "metadata": {},
   "outputs": [],
   "source": [
    "# write csv file\n",
    "#f = open(r'C:\\Users\\mikep\\Desktop\\project\\data\\pc_scores', 'w')\n",
    "#writer = csv.writer(f)\n",
    "#writer.writerow(pc1)\n",
    "#f.close()"
   ]
  },
  {
   "cell_type": "code",
   "execution_count": null,
   "id": "dd0cc21a",
   "metadata": {},
   "outputs": [],
   "source": []
  }
 ],
 "metadata": {
  "kernelspec": {
   "display_name": "Python 3 (ipykernel)",
   "language": "python",
   "name": "python3"
  },
  "language_info": {
   "codemirror_mode": {
    "name": "ipython",
    "version": 3
   },
   "file_extension": ".py",
   "mimetype": "text/x-python",
   "name": "python",
   "nbconvert_exporter": "python",
   "pygments_lexer": "ipython3",
   "version": "3.9.12"
  }
 },
 "nbformat": 4,
 "nbformat_minor": 5
}
