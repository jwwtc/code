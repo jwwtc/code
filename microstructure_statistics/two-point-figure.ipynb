{
 "cells": [
  {
   "cell_type": "code",
   "execution_count": 2,
   "id": "88432b54",
   "metadata": {
    "scrolled": false
   },
   "outputs": [],
   "source": [
    "#Packages\n",
    "import warnings\n",
    "warnings.filterwarnings('ignore')\n",
    "import glob\n",
    "import csv\n",
    "import numpy as np\n",
    "import pandas as pd\n",
    "import matplotlib.pyplot as plt\n",
    "from sklearn.pipeline import Pipeline\n",
    "from itertools import cycle, islice\n",
    "from sklearn.decomposition import PCA\n",
    "from PIL import Image\n",
    "from pymks import (plot_microstructures, PrimitiveTransformer, TwoPointCorrelation)"
   ]
  },
  {
   "cell_type": "code",
   "execution_count": 3,
   "id": "a75b2b7e",
   "metadata": {
    "scrolled": false
   },
   "outputs": [],
   "source": [
    "%matplotlib inline\n",
    "%reload_ext autoreload\n",
    "%autoreload 2"
   ]
  },
  {
   "cell_type": "code",
   "execution_count": 4,
   "id": "65763a7e",
   "metadata": {},
   "outputs": [
    {
     "data": {
      "text/plain": [
       "(600, 600)"
      ]
     },
     "execution_count": 4,
     "metadata": {},
     "output_type": "execute_result"
    }
   ],
   "source": [
    "mic_init=Image.open(r'C:\\Users\\mikep\\Desktop\\mic.png')\n",
    "mic_init=np.array(mic_init)\n",
    "np.shape(mic_init)"
   ]
  },
  {
   "cell_type": "code",
   "execution_count": 5,
   "id": "9e6f9cbd",
   "metadata": {},
   "outputs": [
    {
     "data": {
      "text/plain": [
       "(1, 600, 600)"
      ]
     },
     "execution_count": 5,
     "metadata": {},
     "output_type": "execute_result"
    }
   ],
   "source": [
    "mic=np.expand_dims(np.array(mic_init), axis=0)\n",
    "np.shape(mic)"
   ]
  },
  {
   "cell_type": "code",
   "execution_count": 6,
   "id": "2ce436e7",
   "metadata": {},
   "outputs": [
    {
     "data": {
      "text/plain": [
       "(1, 600, 600, 2)"
      ]
     },
     "execution_count": 6,
     "metadata": {},
     "output_type": "execute_result"
    }
   ],
   "source": [
    "mic = PrimitiveTransformer(n_state=2, min_=0.0, max_=1.0).transform(mic)\n",
    "np.shape(mic)"
   ]
  },
  {
   "cell_type": "code",
   "execution_count": 18,
   "id": "8c68babb",
   "metadata": {},
   "outputs": [
    {
     "data": {
      "text/html": [
       "<table>\n",
       "<tr>\n",
       "<td>\n",
       "<table>\n",
       "  <thead>\n",
       "    <tr><td> </td><th> Array </th><th> Chunk </th></tr>\n",
       "  </thead>\n",
       "  <tbody>\n",
       "    <tr><th> Bytes </th><td> 1.56 MiB </td> <td> 1.56 MiB </td></tr>\n",
       "    <tr><th> Shape </th><td> (1, 261, 261, 3) </td> <td> (1, 261, 261, 3) </td></tr>\n",
       "    <tr><th> Count </th><td> 67 Tasks </td><td> 1 Chunks </td></tr>\n",
       "    <tr><th> Type </th><td> float64 </td><td> numpy.ndarray </td></tr>\n",
       "  </tbody>\n",
       "</table>\n",
       "</td>\n",
       "<td>\n",
       "<svg width=\"336\" height=\"240\" style=\"stroke:rgb(0,0,0);stroke-width:1\" >\n",
       "\n",
       "  <!-- Horizontal lines -->\n",
       "  <line x1=\"0\" y1=\"0\" x2=\"25\" y2=\"0\" style=\"stroke-width:2\" />\n",
       "  <line x1=\"0\" y1=\"25\" x2=\"25\" y2=\"25\" style=\"stroke-width:2\" />\n",
       "\n",
       "  <!-- Vertical lines -->\n",
       "  <line x1=\"0\" y1=\"0\" x2=\"0\" y2=\"25\" style=\"stroke-width:2\" />\n",
       "  <line x1=\"25\" y1=\"0\" x2=\"25\" y2=\"25\" style=\"stroke-width:2\" />\n",
       "\n",
       "  <!-- Colored Rectangle -->\n",
       "  <polygon points=\"0.0,0.0 25.412616514582485,0.0 25.412616514582485,25.412616514582485 0.0,25.412616514582485\" style=\"fill:#ECB172A0;stroke-width:0\"/>\n",
       "\n",
       "  <!-- Text -->\n",
       "  <text x=\"12.706308\" y=\"45.412617\" font-size=\"1.0rem\" font-weight=\"100\" text-anchor=\"middle\" >1</text>\n",
       "  <text x=\"45.412617\" y=\"12.706308\" font-size=\"1.0rem\" font-weight=\"100\" text-anchor=\"middle\" transform=\"rotate(0,45.412617,12.706308)\">1</text>\n",
       "\n",
       "\n",
       "  <!-- Horizontal lines -->\n",
       "  <line x1=\"95\" y1=\"0\" x2=\"165\" y2=\"70\" style=\"stroke-width:2\" />\n",
       "  <line x1=\"95\" y1=\"120\" x2=\"165\" y2=\"190\" style=\"stroke-width:2\" />\n",
       "\n",
       "  <!-- Vertical lines -->\n",
       "  <line x1=\"95\" y1=\"0\" x2=\"95\" y2=\"120\" style=\"stroke-width:2\" />\n",
       "  <line x1=\"165\" y1=\"70\" x2=\"165\" y2=\"190\" style=\"stroke-width:2\" />\n",
       "\n",
       "  <!-- Colored Rectangle -->\n",
       "  <polygon points=\"95.0,0.0 165.58823529411765,70.58823529411765 165.58823529411765,190.58823529411765 95.0,120.0\" style=\"fill:#ECB172A0;stroke-width:0\"/>\n",
       "\n",
       "  <!-- Horizontal lines -->\n",
       "  <line x1=\"95\" y1=\"0\" x2=\"121\" y2=\"0\" style=\"stroke-width:2\" />\n",
       "  <line x1=\"165\" y1=\"70\" x2=\"191\" y2=\"70\" style=\"stroke-width:2\" />\n",
       "\n",
       "  <!-- Vertical lines -->\n",
       "  <line x1=\"95\" y1=\"0\" x2=\"165\" y2=\"70\" style=\"stroke-width:2\" />\n",
       "  <line x1=\"121\" y1=\"0\" x2=\"191\" y2=\"70\" style=\"stroke-width:2\" />\n",
       "\n",
       "  <!-- Colored Rectangle -->\n",
       "  <polygon points=\"95.0,0.0 121.09176583734218,0.0 191.68000113145985,70.58823529411765 165.58823529411765,70.58823529411765\" style=\"fill:#ECB172A0;stroke-width:0\"/>\n",
       "\n",
       "  <!-- Horizontal lines -->\n",
       "  <line x1=\"165\" y1=\"70\" x2=\"191\" y2=\"70\" style=\"stroke-width:2\" />\n",
       "  <line x1=\"165\" y1=\"190\" x2=\"191\" y2=\"190\" style=\"stroke-width:2\" />\n",
       "\n",
       "  <!-- Vertical lines -->\n",
       "  <line x1=\"165\" y1=\"70\" x2=\"165\" y2=\"190\" style=\"stroke-width:2\" />\n",
       "  <line x1=\"191\" y1=\"70\" x2=\"191\" y2=\"190\" style=\"stroke-width:2\" />\n",
       "\n",
       "  <!-- Colored Rectangle -->\n",
       "  <polygon points=\"165.58823529411765,70.58823529411765 191.68000113145982,70.58823529411765 191.68000113145982,190.58823529411765 165.58823529411765,190.58823529411765\" style=\"fill:#ECB172A0;stroke-width:0\"/>\n",
       "\n",
       "  <!-- Text -->\n",
       "  <text x=\"178.634118\" y=\"210.588235\" font-size=\"1.0rem\" font-weight=\"100\" text-anchor=\"middle\" >3</text>\n",
       "  <text x=\"211.680001\" y=\"130.588235\" font-size=\"1.0rem\" font-weight=\"100\" text-anchor=\"middle\" transform=\"rotate(-90,211.680001,130.588235)\">261</text>\n",
       "  <text x=\"120.294118\" y=\"175.294118\" font-size=\"1.0rem\" font-weight=\"100\" text-anchor=\"middle\" transform=\"rotate(45,120.294118,175.294118)\">261</text>\n",
       "</svg>\n",
       "</td>\n",
       "</tr>\n",
       "</table>"
      ],
      "text/plain": [
       "dask.array<rechunk-merge, shape=(1, 261, 261, 3), dtype=float64, chunksize=(1, 261, 261, 3), chunktype=numpy.ndarray>"
      ]
     },
     "execution_count": 18,
     "metadata": {},
     "output_type": "execute_result"
    }
   ],
   "source": [
    "mic_two_points = TwoPointCorrelation(periodic_boundary=True, cutoff=130, correlations=[(0,0), (0,1), (1,1)]).transform(mic)\n",
    "mic_two_points"
   ]
  },
  {
   "cell_type": "code",
   "execution_count": 20,
   "id": "fc1d99c7",
   "metadata": {},
   "outputs": [
    {
     "data": {
      "image/png": "[encoded data removed]",
      "text/plain": [
       "<Figure size 288x288 with 2 Axes>"
      ]
     },
     "execution_count": 20,
     "metadata": {},
     "output_type": "execute_result"
    },
    {
     "data": {
      "image/png": "[encoded data removed]",
      "text/plain": [
       "<Figure size 288x288 with 2 Axes>"
      ]
     },
     "metadata": {
      "needs_background": "light"
     },
     "output_type": "display_data"
    }
   ],
   "source": [
    "plot_microstructures(mic_two_points[0, :, :, 2], cmap='PuBu_r', showticks=True)"
   ]
  },
  {
   "cell_type": "code",
   "execution_count": null,
   "id": "cafe9a42",
   "metadata": {},
   "outputs": [],
   "source": []
  },
  {
   "cell_type": "code",
   "execution_count": null,
   "id": "8f568e80",
   "metadata": {},
   "outputs": [],
   "source": []
  },
  {
   "cell_type": "code",
   "execution_count": null,
   "id": "4e2bb478",
   "metadata": {
    "scrolled": false
   },
   "outputs": [],
   "source": [
    "#Append images all to one list.\n",
    "images = []\n",
    "for filename in glob.glob(r'C:\\Users\\mikep\\Desktop\\project\\data\\evolution\\two-point-figure\\*.tif'):\n",
    "    im=Image.open(filename)\n",
    "    images.append(im)\n",
    "np.shape(images[0])"
   ]
  },
  {
   "cell_type": "code",
   "execution_count": null,
   "id": "6743cf8f",
   "metadata": {
    "scrolled": false
   },
   "outputs": [],
   "source": [
    "#List comprehension to convert the members of the \"images\" list to arrays.\n",
    "imarrays = [np.array(x) for x in images]\n",
    "imarrays[0].shape"
   ]
  },
  {
   "cell_type": "code",
   "execution_count": null,
   "id": "e77bc875",
   "metadata": {
    "scrolled": false
   },
   "outputs": [],
   "source": [
    "#Stacking all image arrays to create the 'sample' dimension and to convert the list to an array.\n",
    "data_a = np.stack(imarrays, axis=0)\n",
    "data_a.shape"
   ]
  },
  {
   "cell_type": "code",
   "execution_count": null,
   "id": "b179211b",
   "metadata": {
    "scrolled": false
   },
   "outputs": [],
   "source": [
    "#Visualization of the microstructures.\n",
    "plot_microstructures(*data_a[0:10], cmap='PuBu', colorbar=False)"
   ]
  },
  {
   "cell_type": "code",
   "execution_count": null,
   "id": "060ae402",
   "metadata": {
    "scrolled": false
   },
   "outputs": [],
   "source": [
    "#List comprehension to add the \"phases\" axis with the PrimitiveTransformer class.\n",
    "data = PrimitiveTransformer(n_state=2, min_=0.0, max_=1.0).transform(data_a)\n",
    "data.shape"
   ]
  },
  {
   "cell_type": "code",
   "execution_count": null,
   "id": "de4ca337",
   "metadata": {
    "scrolled": false
   },
   "outputs": [],
   "source": [
    "#Swaping the columns to solve the evolution issue.\n",
    "data[:, :, :, [0, 1]]= data[:, :, :, [1, 0]]"
   ]
  },
  {
   "cell_type": "code",
   "execution_count": null,
   "id": "ce051084",
   "metadata": {
    "scrolled": false
   },
   "outputs": [],
   "source": [
    "#Initial and middle microstructures.\n",
    "plot_microstructures(data[2, :, :, 0], data[5, :, :, 0], data[9, :, :, 0], titles=['Initial', 'Middle', 'Final'], cmap='PuBu_r', colorbar=False)"
   ]
  },
  {
   "cell_type": "code",
   "execution_count": null,
   "id": "92ac8d72",
   "metadata": {
    "scrolled": false
   },
   "outputs": [],
   "source": [
    "#Calculating two-point statistics.\n",
    "two_points = TwoPointCorrelation(periodic_boundary=True, cutoff=40, correlations=[(0, 0), (0, 1)]).transform(data)\n",
    "initial_shape = two_points.shape\n",
    "initial_shape"
   ]
  },
  {
   "cell_type": "code",
   "execution_count": null,
   "id": "2288042a",
   "metadata": {
    "scrolled": false
   },
   "outputs": [],
   "source": [
    "#Initial two-point statistics.\n",
    "plot_microstructures(two_points[9, :, :, 0], cmap='PuBu_r', showticks=False)"
   ]
  },
  {
   "cell_type": "code",
   "execution_count": null,
   "id": "1cabb695",
   "metadata": {
    "scrolled": false
   },
   "outputs": [],
   "source": [
    "#Middle two-point statistics.\n",
    "plot_microstructures(two_points[25, :, :, 0], titles=['Middle'], cmap='PuBu_r', showticks=False)"
   ]
  },
  {
   "cell_type": "code",
   "execution_count": null,
   "id": "a9e90a9f",
   "metadata": {
    "scrolled": false
   },
   "outputs": [],
   "source": [
    "#Final two-point statistics.\n",
    "plot_microstructures(two_points[39, :, :, 0], titles=['Final'], cmap='PuBu_r', showticks=False)"
   ]
  },
  {
   "cell_type": "code",
   "execution_count": null,
   "id": "8deb5ddd",
   "metadata": {
    "scrolled": false
   },
   "outputs": [],
   "source": [
    "#Recrystallized Volume Fraction\n",
    "print('Recrystallized Volume Fraction 10 = ', two_points[10, 130, 130, 0].compute())\n",
    "print('Recrystallized Volume Fraction 25 = ', two_points[25, 130, 130, 0].compute())\n",
    "print('Recrystallized Volume Fraction 39 = ', two_points[39, 130, 130, 0].compute())"
   ]
  },
  {
   "cell_type": "code",
   "execution_count": null,
   "id": "1332414b",
   "metadata": {
    "scrolled": true
   },
   "outputs": [],
   "source": [
    "#list with recrystallized fraction\n",
    "rex_fraction_list=[]\n",
    "for i in range(40):\n",
    "    rex_fraction_list.insert(i, two_points[i, 130, 130, 0].compute())"
   ]
  },
  {
   "cell_type": "code",
   "execution_count": null,
   "id": "e9830e66",
   "metadata": {
    "scrolled": false
   },
   "outputs": [],
   "source": [
    "df_rex=pd.DataFrame(rex_fraction_list)\n",
    "df_rex.rename(columns={df_rex.columns[0]: \"Two-Point Statistics\" }, inplace = True)"
   ]
  },
  {
   "cell_type": "code",
   "execution_count": null,
   "id": "8c046e9f",
   "metadata": {
    "scrolled": false
   },
   "outputs": [],
   "source": [
    "#normalize the data to account for grain boundaries\n",
    "normalized_rex = (rex_fraction_list-min(rex_fraction_list))/(max(rex_fraction_list)-min(rex_fraction_list))\n",
    "df_rex['Normalized'] = (normalized_rex)\n",
    "\n",
    "micress = pd.read_csv(r'C:\\Users\\mikep\\Desktop\\thesis\\figures\\ReX-Fraction\\ReX-figure.csv')\n",
    "micress['Phase-Field']=micress['Phase-Field']*0.01\n",
    "df_rex['Phase-Field']= micress['Phase-Field'].values\n",
    "\n",
    "time_steps = pd.Series(np.arange(0,40))\n",
    "df_rex.insert(loc=0, column='Time Steps', value=time_steps)\n",
    "df_rex"
   ]
  },
  {
   "cell_type": "code",
   "execution_count": null,
   "id": "686599eb",
   "metadata": {
    "scrolled": false
   },
   "outputs": [],
   "source": [
    "#csv file with rex fraction\n",
    "df_rex.to_csv(r'C:\\Users\\mikep\\Desktop\\project\\data\\rex_fraction_evolution.csv')"
   ]
  },
  {
   "cell_type": "code",
   "execution_count": null,
   "id": "cc88eedb",
   "metadata": {
    "scrolled": false
   },
   "outputs": [],
   "source": [
    "#plot rex fraction evolution (two points vs. normalized)\n",
    "plt.rcParams.update({'font.size': 15})\n",
    "\n",
    "my_colors = list(islice(cycle(['black', '#66c2a5']), None, len(df_rex)))\n",
    "rex_fig = df_rex.plot(x ='Time Steps', y=['Two-Point Statistics', 'Normalized'],\n",
    "                      figsize=(12, 10), color=my_colors, linewidth=3, marker='o', markersize=5)\n",
    "\n",
    "plt.tick_params(axis=\"both\", size=15, direction=\"in\", pad=8)\n",
    "plt.legend(frameon=False, bbox_to_anchor=(0.05, 0.95), loc='upper left', borderaxespad=0)\n",
    "\n",
    "rex_fig.patch.set_edgecolor('black')\n",
    "rex_fig.patch.set_linewidth('2')\n",
    "\n",
    "rex_fig.set_xlabel(\"Time Step\", fontsize=23, labelpad=15)\n",
    "rex_fig.set_ylabel(\"Recrystallized Fraction\", fontsize=23, labelpad=15)\n",
    "\n",
    "plt.xlim([0.1, 39])\n",
    "plt.ylim([0, 1])\n",
    "\n",
    "rex_fig.figure.savefig(r'C:\\Users\\mikep\\Desktop\\thesis\\figures\\ReX-Fraction\\two_points-normalized.png', facecolor='w', dpi=600)"
   ]
  },
  {
   "cell_type": "code",
   "execution_count": null,
   "id": "0b34c61c",
   "metadata": {},
   "outputs": [],
   "source": [
    "#plot rex fraction evolution (normalized vs. phase-field)\n",
    "plt.rcParams.update({'font.size': 15})\n",
    "\n",
    "my_colors = list(islice(cycle(['black', '#fc8d62']), None, len(df_rex)))\n",
    "rex_fig = df_rex.plot(x ='Time Steps', y=['Normalized', 'Phase-Field'],\n",
    "                      figsize=(12, 10), color=my_colors, linewidth=3, marker='o', markersize=5)\n",
    "\n",
    "plt.tick_params(axis=\"both\", size=15, direction=\"in\", pad=8)\n",
    "plt.legend(frameon=False, bbox_to_anchor=(0.05, 0.95), loc='upper left', borderaxespad=0)\n",
    "\n",
    "rex_fig.patch.set_edgecolor('black')\n",
    "rex_fig.patch.set_linewidth('2')\n",
    "\n",
    "rex_fig.set_xlabel(\"Time Step\", fontsize=23, labelpad=15)\n",
    "rex_fig.set_ylabel(\"Recrystallized Fraction\", fontsize=23, labelpad=15)\n",
    "\n",
    "plt.xlim([0.1, 39])\n",
    "plt.ylim([0, 1])\n",
    "\n",
    "rex_fig.figure.savefig(r'C:\\Users\\mikep\\Desktop\\thesis\\figures\\ReX-Fraction\\normalized-phase_field.png', facecolor='w', dpi=600)"
   ]
  },
  {
   "cell_type": "code",
   "execution_count": null,
   "id": "f63872ea",
   "metadata": {
    "scrolled": false
   },
   "outputs": [],
   "source": [
    "#Reshape the two-point statistics for the PCA model.\n",
    "reshaped_two_points=two_points.reshape(40, -1)\n",
    "reshaped_two_points.shape"
   ]
  },
  {
   "cell_type": "code",
   "execution_count": null,
   "id": "d1e163a0",
   "metadata": {
    "scrolled": false
   },
   "outputs": [],
   "source": [
    "#PCA\n",
    "pca = PCA(svd_solver='full', n_components=3)\n",
    "pc_scores=pca.fit_transform(reshaped_two_points)\n",
    "pc_scores.shape"
   ]
  },
  {
   "cell_type": "code",
   "execution_count": null,
   "id": "aab65d01",
   "metadata": {
    "scrolled": true
   },
   "outputs": [],
   "source": [
    "print(pca.components_) \n",
    "print(pca.components_.shape)"
   ]
  },
  {
   "cell_type": "code",
   "execution_count": null,
   "id": "04a8d058",
   "metadata": {
    "scrolled": true
   },
   "outputs": [],
   "source": [
    "#First principal component (PC1). \n",
    "pc1, pc2, pc3 = np.split(pc_scores, 3, axis=1)\n",
    "print(pc1.shape)\n",
    "print(pc1)\n",
    "##Note: No \"axis=1\" in order to obtain pc-scores for different microstructure classes."
   ]
  },
  {
   "cell_type": "code",
   "execution_count": null,
   "id": "3be51650",
   "metadata": {
    "scrolled": false
   },
   "outputs": [],
   "source": [
    "zeros=np.zeros((40, 2))\n",
    "reshaped_pc1=np.hstack((pc1,zeros))\n",
    "print(reshaped_pc1)\n",
    "print(reshaped_pc1.shape)\n",
    "print(reshaped_pc1[26])"
   ]
  },
  {
   "cell_type": "code",
   "execution_count": null,
   "id": "8e35bbf4",
   "metadata": {
    "scrolled": false
   },
   "outputs": [],
   "source": [
    "#Explained variance by each principal component.\n",
    "exp_var_pca=pca.explained_variance_ratio_*100\n",
    "cum_sum=np.cumsum(pca.explained_variance_ratio_)*100\n",
    "cum_sum_2d = [ '%.2f' % elem for elem in cum_sum ]\n",
    "cum_sum_2d = np.array(cum_sum_2d)\n",
    "\n",
    "print(exp_var_pca)"
   ]
  },
  {
   "cell_type": "code",
   "execution_count": null,
   "id": "70e2de38",
   "metadata": {
    "scrolled": false
   },
   "outputs": [],
   "source": [
    "#plot explained variance\n",
    "\n",
    "fig = plt.figure(1, figsize=(12, 10))\n",
    "\n",
    "x1 = range(1, len(exp_var_pca)+1)\n",
    "y1 = exp_var_pca\n",
    "x2 = range(1, len(cum_sum)+1)\n",
    "y2 = cum_sum\n",
    "\n",
    "plt.bar(x1, y1, color='#999999', edgecolor='black', linewidth='1', alpha=0.9, width = 0.5, align='center', label='Individual explained variance')\n",
    "\n",
    "plt.plot(x2, y2, label='Cumulative explained variance', c='black', linewidth=3)\n",
    "plt.scatter(x2, y2, s=80, facecolors='black', edgecolors='black')\n",
    "\n",
    "for i, txt in enumerate(cum_sum_2d):\n",
    "    plt.annotate(txt, (x2[i], y2[i]), size=15, xytext=(x2[i], y2[i]+3))\n",
    "    \n",
    "plt.xlabel('Principal Component Index', fontsize=23, labelpad=15)\n",
    "plt.ylabel('Explained Variance Ratio', fontsize=23, labelpad=15)\n",
    "\n",
    "plt.xticks(np.arange(1, 4, step=1), fontsize=20)\n",
    "plt.yticks(fontsize=20)\n",
    "\n",
    "plt.legend(frameon=False, loc='best')\n",
    "plt.ylim([0, 108])\n",
    "\n",
    "#fig.savefig(r'C:\\Users\\mikep\\Desktop\\thesis\\figures\\explained_variance.png', dpi=600)\n",
    "plt.show()"
   ]
  },
  {
   "cell_type": "code",
   "execution_count": null,
   "id": "344d6734",
   "metadata": {
    "scrolled": false
   },
   "outputs": [],
   "source": [
    "#Principal component analysis visualization.\n",
    "\n",
    "fig = plt.figure(figsize=(15, 12))\n",
    "ax = fig.add_subplot(111)\n",
    "\n",
    "plt.scatter(pc_scores[:,0], pc_scores[:,1], c='black', marker='o', s=10) # markeredgecolor='black') \n",
    "plt.plot(pc_scores[:,0], pc_scores[:,1], c='skyblue', ls='--')\n",
    "\n",
    "ax.set_xlabel(\"First Principal Component (PC1)\",  fontsize=22, labelpad=20)\n",
    "ax.set_ylabel(\"Second Principal Component (PC2)\",  fontsize=22, labelpad=20)\n",
    "\n",
    "ax.tick_params(axis=\"both\", size=15, direction=\"in\", pad=8)\n",
    "\n",
    "#ax.set_title('Time Evolution of PC-scores', fontsize=30, pad=20)\n",
    "\n",
    "ax.grid(which='major', axis='both', linestyle = '--', linewidth = 0.5)\n",
    "\n",
    "ax.patch.set_edgecolor('black')\n",
    "ax.patch.set_linewidth('2') \n",
    "\n",
    "n = range(0,40)\n",
    "for i, txt in enumerate(n):\n",
    "    plt.annotate(txt, (pc_scores[i,0], pc_scores[i,1]), xytext=(pc_scores[i,0]+1, pc_scores[i,1]+0.9), size=10)\n",
    "\n",
    "fig.savefig(r'C:\\Users\\mikep\\Desktop\\thesis\\figures\\pc-evolution.png', facecolor='w', dpi=600)\n",
    "fig.show()"
   ]
  },
  {
   "cell_type": "code",
   "execution_count": null,
   "id": "5537490c",
   "metadata": {
    "scrolled": true
   },
   "outputs": [],
   "source": [
    "#Inverting and reshaping the data.\n",
    "\n",
    "two_points_inv_pc = pca.inverse_transform(pc_scores)\n",
    "two_points_inv_pc1 = pca.inverse_transform(reshaped_pc1)\n",
    "\n",
    "recovered_two_points_pc = np.reshape(two_points_inv_pc, initial_shape)\n",
    "recovered_two_points_pc1 = np.reshape(two_points_inv_pc1, initial_shape)\n",
    "\n",
    "print(two_points_inv_pc.shape)\n",
    "print(recovered_two_points_pc.shape)\n",
    "print(recovered_two_points_pc)"
   ]
  },
  {
   "cell_type": "code",
   "execution_count": null,
   "id": "5be9fabc",
   "metadata": {
    "scrolled": false
   },
   "outputs": [],
   "source": [
    "#Recovered two-point statistics using both PC scores. \n",
    "plot_microstructures(recovered_two_points_pc[25, :, :, 0], titles=['Middle'], cmap='PuBu_r', showticks=False)"
   ]
  },
  {
   "cell_type": "code",
   "execution_count": null,
   "id": "e3492fc0",
   "metadata": {
    "scrolled": false
   },
   "outputs": [],
   "source": [
    "#Recovered first two-point statistics using only PC1. recovered_two_points_pc1[0, :, :, 0], \n",
    "plot_microstructures(recovered_two_points_pc1[25, :, :, 0], titles=['Middle'], cmap='PuBu_r', showticks=False)"
   ]
  },
  {
   "cell_type": "code",
   "execution_count": null,
   "id": "5c321ef0",
   "metadata": {
    "scrolled": false
   },
   "outputs": [],
   "source": [
    "#Save the pc scores.\n",
    "df1 = pd.DataFrame(pc1)\n",
    "df1.to_csv(r'C:\\Users\\mikep\\Desktop\\project\\data\\pc_scores\\pc1_evolution.csv')"
   ]
  },
  {
   "cell_type": "code",
   "execution_count": null,
   "id": "604d5ad3",
   "metadata": {
    "scrolled": false
   },
   "outputs": [],
   "source": [
    "zeros2=np.zeros((40, 3))\n",
    "zeros2[(0,0)]=55.14937987\n",
    "print(zeros2)"
   ]
  },
  {
   "cell_type": "code",
   "execution_count": null,
   "id": "8ad5b645",
   "metadata": {
    "scrolled": false
   },
   "outputs": [],
   "source": [
    "two_points_inv_pcnew = pca.inverse_transform(zeros2)\n",
    "print(two_points_inv_pcnew.shape)"
   ]
  },
  {
   "cell_type": "code",
   "execution_count": null,
   "id": "e8f78a09",
   "metadata": {
    "scrolled": false
   },
   "outputs": [],
   "source": [
    "recovered_two_points = np.reshape(two_points_inv_pcnew, initial_shape)\n",
    "print(recovered_two_points.shape)"
   ]
  },
  {
   "cell_type": "code",
   "execution_count": null,
   "id": "427f01e1",
   "metadata": {
    "scrolled": false
   },
   "outputs": [],
   "source": [
    "plot_microstructures(recovered_two_points[25, :, :, 0], titles=['projected'], cmap='PuBu_r', showticks=False)"
   ]
  },
  {
   "cell_type": "code",
   "execution_count": null,
   "id": "d90fc55a",
   "metadata": {},
   "outputs": [],
   "source": []
  }
 ],
 "metadata": {
  "kernelspec": {
   "display_name": "Python 3 (ipykernel)",
   "language": "python",
   "name": "python3"
  },
  "language_info": {
   "codemirror_mode": {
    "name": "ipython",
    "version": 3
   },
   "file_extension": ".py",
   "mimetype": "text/x-python",
   "name": "python",
   "nbconvert_exporter": "python",
   "pygments_lexer": "ipython3",
   "version": "3.8.8"
  }
 },
 "nbformat": 4,
 "nbformat_minor": 5
}
