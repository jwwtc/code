{
 "cells": [
  {
   "cell_type": "code",
   "execution_count": 2,
   "id": "51246f35",
   "metadata": {},
   "outputs": [],
   "source": [
    "import numpy as np\n",
    "import inspect"
   ]
  },
  {
   "cell_type": "code",
   "execution_count": 8,
   "id": "854db103",
   "metadata": {},
   "outputs": [],
   "source": [
    "def reverse(mylist):\n",
    "    mylist[:] = mylist[::-1]\n",
    "    return mylist"
   ]
  },
  {
   "cell_type": "code",
   "execution_count": 9,
   "id": "c0fd8769",
   "metadata": {},
   "outputs": [
    {
     "name": "stdout",
     "output_type": "stream",
     "text": [
      "[3, 2, 1]\n"
     ]
    }
   ],
   "source": [
    "L=[1,2,3]\n",
    "print(reverse(L))"
   ]
  },
  {
   "cell_type": "code",
   "execution_count": null,
   "id": "637fd258",
   "metadata": {},
   "outputs": [],
   "source": []
  }
 ],
 "metadata": {
  "kernelspec": {
   "display_name": "Python 3 (ipykernel)",
   "language": "python",
   "name": "python3"
  },
  "language_info": {
   "codemirror_mode": {
    "name": "ipython",
    "version": 3
   },
   "file_extension": ".py",
   "mimetype": "text/x-python",
   "name": "python",
   "nbconvert_exporter": "python",
   "pygments_lexer": "ipython3",
   "version": "3.8.8"
  }
 },
 "nbformat": 4,
 "nbformat_minor": 5
}
