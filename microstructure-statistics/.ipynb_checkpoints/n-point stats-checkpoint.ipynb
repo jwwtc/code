{
 "cells": [
  {
   "cell_type": "code",
   "execution_count": null,
   "id": "88432b54",
   "metadata": {},
   "outputs": [],
   "source": [
    "#Packages\n",
    "import warnings\n",
    "warnings.filterwarnings('ignore')\n",
    "import numpy as np\n",
    "import matplotlib.pyplot as plt\n",
    "from PIL import Image\n",
    "from pymks import (generate_multiphase, plot_microstructures, PrimitiveTransformer,\n",
    "                   TwoPointCorrelation,FlattenTransformer, PrimitiveBasis)\n",
    "from pymks.stats import correlate\n",
    "from pymks.tools import draw_microstructures\n",
    "from sklearn.pipeline import Pipeline\n",
    "from sklearn.decomposition import PCA\n",
    "from sklearn.preprocessing import StandardScaler\n",
    "import glob\n",
    "import pandas as pd\n",
    "import csv"
   ]
  },
  {
   "cell_type": "code",
   "execution_count": null,
   "id": "a75b2b7e",
   "metadata": {},
   "outputs": [],
   "source": [
    "%matplotlib inline\n",
    "%reload_ext autoreload\n",
    "%autoreload 2"
   ]
  },
  {
   "cell_type": "code",
   "execution_count": null,
   "id": "4e2bb478",
   "metadata": {
    "scrolled": false
   },
   "outputs": [],
   "source": [
    "#Append images all to one list.\n",
    "images = []\n",
    "for filename in glob.glob(r'C:\\Users\\mikep\\Desktop\\project\\data\\fiji_data\\result\\*.tif'):\n",
    "    im=Image.open(filename)\n",
    "    images.append(im)\n",
    "np.shape(images[0])"
   ]
  },
  {
   "cell_type": "code",
   "execution_count": null,
   "id": "6743cf8f",
   "metadata": {},
   "outputs": [],
   "source": [
    "#List comprehension to convert the members of the \"images\" list to arrays.\n",
    "imarrays = [np.array(x) for x in images]\n",
    "imarrays[0].shape"
   ]
  },
  {
   "cell_type": "code",
   "execution_count": null,
   "id": "e77bc875",
   "metadata": {},
   "outputs": [],
   "source": [
    "#Stacking all image arrays to create the 'sample' dimension and to convert the list to an array.\n",
    "data_a = np.stack(imarrays, axis=0)\n",
    "data_a.shape"
   ]
  },
  {
   "cell_type": "code",
   "execution_count": null,
   "id": "b179211b",
   "metadata": {},
   "outputs": [],
   "source": [
    "#Visualization of the microstructures.\n",
    "plot_microstructures(*data_a[:10], cmap='magma', colorbar=False)"
   ]
  },
  {
   "cell_type": "code",
   "execution_count": null,
   "id": "060ae402",
   "metadata": {},
   "outputs": [],
   "source": [
    "#List comprehension to add the \"phases\" axis with the PrimitiveTransformer class.\n",
    "data = PrimitiveTransformer(n_state=2, min_=0.0, max_=1.0).transform(data_a)\n",
    "data.shape"
   ]
  },
  {
   "cell_type": "code",
   "execution_count": null,
   "id": "ce051084",
   "metadata": {},
   "outputs": [],
   "source": [
    "plot_microstructures(data[0, :, :, 0], data[9, :, :, 0], titles=['Initial', 'Final'], cmap='magma', colorbar=False)"
   ]
  },
  {
   "cell_type": "code",
   "execution_count": null,
   "id": "6f3ef5a5",
   "metadata": {},
   "outputs": [],
   "source": [
    "two_points = TwoPointCorrelation(periodic_boundary=True, cutoff=50, correlations=[(0, 0), (0, 1)]).transform(data)\n",
    "two_points.shape"
   ]
  },
  {
   "cell_type": "code",
   "execution_count": null,
   "id": "917b7a5e",
   "metadata": {},
   "outputs": [],
   "source": [
    "#Plot of the two-point statistics evolution.\n",
    "fig = plt.figure(figsize=(10,10)) \n",
    "fig.subplots_adjust(left=0, right=1, bottom=0, top=1, hspace=0.05, wspace=0.05)\n",
    "for i in range(10): \n",
    "    ax = fig.add_subplot(10, 10, i+1, xticks=[], yticks=[]) \n",
    "    ax.imshow(two_points[i, :, :, 0], cmap=plt.cm.viridis, interpolation='nearest') \n",
    "plt.show()"
   ]
  },
  {
   "cell_type": "code",
   "execution_count": null,
   "id": "1cabb695",
   "metadata": {},
   "outputs": [],
   "source": [
    "#Initial and final two-point statistics.\n",
    "plot_microstructures(two_points[0, :, :, 0], two_points[9, :, :, 0], titles=['Initial', 'Final'], showticks=False)"
   ]
  },
  {
   "cell_type": "code",
   "execution_count": null,
   "id": "f63872ea",
   "metadata": {},
   "outputs": [],
   "source": [
    "#Reshape the two_point statistics for the PCA model.\n",
    "reshaped_two_points=two_points.reshape(10, -1)\n",
    "reshaped_two_points.shape"
   ]
  },
  {
   "cell_type": "code",
   "execution_count": null,
   "id": "d1e163a0",
   "metadata": {},
   "outputs": [],
   "source": [
    "#PCA\n",
    "pca = PCA(svd_solver='full', n_components=2, random_state=10)\n",
    "pc_scores=pca.fit_transform(reshaped_two_points)\n",
    "pc_scores.shape"
   ]
  },
  {
   "cell_type": "code",
   "execution_count": null,
   "id": "aab65d01",
   "metadata": {
    "scrolled": true
   },
   "outputs": [],
   "source": [
    "print(pca.components_) \n",
    "print(pca.components_.shape)"
   ]
  },
  {
   "cell_type": "code",
   "execution_count": null,
   "id": "04a8d058",
   "metadata": {
    "scrolled": false
   },
   "outputs": [],
   "source": [
    "#Print first principal component (PC1).\n",
    "pc1, pc2 = np.split(pc_scores, 2, axis=1)\n",
    "print(pc1.shape)\n",
    "print(pc1)"
   ]
  },
  {
   "cell_type": "code",
   "execution_count": null,
   "id": "8e35bbf4",
   "metadata": {},
   "outputs": [],
   "source": [
    "#Explained variance by each principal component.\n",
    "print(pca.explained_variance_ratio_)\n",
    "print(np.cumsum(pca.explained_variance_ratio_))"
   ]
  },
  {
   "cell_type": "code",
   "execution_count": null,
   "id": "344d6734",
   "metadata": {},
   "outputs": [],
   "source": [
    "#Principal component analysis visualization.\n",
    "fig = plt.figure(figsize=(8,6))\n",
    "ax = fig.add_subplot(111)\n",
    "plt.scatter(pc_scores[:,0], pc_scores[:,1], c='b', marker='+') \n",
    "ax.set_xlabel(\"First Principal Component (PC1)\")\n",
    "ax.set_ylabel(\"Second Principal Component (PC2)\")\n",
    "ax.set_title(\"PCA Visualization\")\n",
    "plt.grid(color = 'black', linestyle = '--', linewidth = 0.5)\n",
    "ax.patch.set_edgecolor('black')  \n",
    "ax.patch.set_linewidth('5')  \n",
    "n = range(1,11)\n",
    "for i, txt in enumerate(n):\n",
    "    plt.annotate(txt, (pc_scores[i,0], pc_scores[i,1])) \n",
    "plt.colorbar()\n",
    "plt.show()"
   ]
  },
  {
   "cell_type": "code",
   "execution_count": null,
   "id": "5537490c",
   "metadata": {},
   "outputs": [],
   "source": [
    "#Inverting and reshaping the data.\n",
    "two_points_inv = pca.inverse_transform(pc_scores)\n",
    "print(two_points_inv.shape)\n",
    "recovered_two_points = np.reshape(two_points_inv,(10,101,101,2))\n",
    "print(recovered_two_points.shape)"
   ]
  },
  {
   "cell_type": "code",
   "execution_count": null,
   "id": "5be9fabc",
   "metadata": {},
   "outputs": [],
   "source": [
    "#Initial and final projected two-point statistics.\n",
    "plot_microstructures(recovered_two_points[0, :, :, 0], recovered_two_points[9, :, :, 0], titles=['Initial', 'Final'], showticks=True)"
   ]
  },
  {
   "cell_type": "code",
   "execution_count": null,
   "id": "5c321ef0",
   "metadata": {},
   "outputs": [],
   "source": [
    "# write csv file\n",
    "f = open(r'C:\\Users\\mikep\\Desktop\\project\\data\\pc_scores', 'w')\n",
    "writer = csv.writer(f)\n",
    "writer.writerow(pc1)\n",
    "f.close()"
   ]
  }
 ],
 "metadata": {
  "kernelspec": {
   "display_name": "Python 3 (ipykernel)",
   "language": "python",
   "name": "python3"
  },
  "language_info": {
   "codemirror_mode": {
    "name": "ipython",
    "version": 3
   },
   "file_extension": ".py",
   "mimetype": "text/x-python",
   "name": "python",
   "nbconvert_exporter": "python",
   "pygments_lexer": "ipython3",
   "version": "3.9.12"
  }
 },
 "nbformat": 4,
 "nbformat_minor": 5
}
