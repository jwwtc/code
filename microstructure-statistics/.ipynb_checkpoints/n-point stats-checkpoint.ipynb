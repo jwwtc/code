{
 "cells": [
  {
   "cell_type": "code",
   "execution_count": null,
   "id": "88432b54",
   "metadata": {},
   "outputs": [],
   "source": [
    "#Packages\n",
    "import warnings\n",
    "warnings.filterwarnings('ignore')\n",
    "import numpy as np\n",
    "import matplotlib.pyplot as plt\n",
    "from PIL import Image\n",
    "from pymks import (generate_multiphase, plot_microstructures, PrimitiveTransformer,\n",
    "                   TwoPointCorrelation,FlattenTransformer, PrimitiveBasis)\n",
    "from pymks.stats import correlate\n",
    "from pymks.tools import draw_microstructures\n",
    "from sklearn.pipeline import Pipeline\n",
    "from sklearn.decomposition import PCA\n",
    "from sklearn.preprocessing import StandardScaler\n",
    "import glob\n",
    "import pandas as pd\n",
    "import csv"
   ]
  },
  {
   "cell_type": "code",
   "execution_count": null,
   "id": "a75b2b7e",
   "metadata": {},
   "outputs": [],
   "source": [
    "%matplotlib inline\n",
    "%reload_ext autoreload\n",
    "%autoreload 2"
   ]
  },
  {
   "cell_type": "code",
   "execution_count": null,
   "id": "4e2bb478",
   "metadata": {
    "scrolled": false
   },
   "outputs": [],
   "source": [
    "#Append images all to one list.\n",
    "images = []\n",
    "for filename in glob.glob(r'C:\\Users\\mikep\\Desktop\\project\\data\\fiji_data\\result\\*.tif'):\n",
    "    im=Image.open(filename)\n",
    "    images.append(im)\n",
    "np.shape(images[0])"
   ]
  },
  {
   "cell_type": "code",
   "execution_count": null,
   "id": "6743cf8f",
   "metadata": {},
   "outputs": [],
   "source": [
    "#List comprehension to convert the members of the \"images\" list to arrays.\n",
    "imarrays = [np.array(x) for x in images]\n",
    "imarrays[0].shape"
   ]
  },
  {
   "cell_type": "code",
   "execution_count": null,
   "id": "e77bc875",
   "metadata": {},
   "outputs": [],
   "source": [
    "#Stacking all image arrays to create the 'sample' dimension and to convert the list to an array.\n",
    "data_a = np.stack(imarrays, axis=0)\n",
    "data_a.shape"
   ]
  },
  {
   "cell_type": "code",
   "execution_count": null,
   "id": "b179211b",
   "metadata": {},
   "outputs": [],
   "source": [
    "#Visualization of the microstructures.\n",
    "plot_microstructures(*data_a[:10], cmap='gray', colorbar=False)"
   ]
  },
  {
   "cell_type": "code",
   "execution_count": null,
   "id": "060ae402",
   "metadata": {},
   "outputs": [],
   "source": [
    "#List comprehension to add the \"phases\" axis with the PrimitiveTransformer class.\n",
    "data = PrimitiveTransformer(n_state=2, min_=0.0, max_=1.0).transform(data_a)\n",
    "data.shape"
   ]
  },
  {
   "cell_type": "code",
   "execution_count": null,
   "id": "ce051084",
   "metadata": {},
   "outputs": [],
   "source": [
    "plot_microstructures(\n",
    "    data[0, :, :, 0],\n",
    "    data[9, :, :, 0],\n",
    "    titles=['Initial', 'Final'],\n",
    "    cmap='gray',\n",
    "    colorbar=False\n",
    ")"
   ]
  },
  {
   "cell_type": "code",
   "execution_count": null,
   "id": "6f3ef5a5",
   "metadata": {},
   "outputs": [],
   "source": [
    "two_points = TwoPointCorrelation(periodic_boundary=True, cutoff=50, correlations=[(0, 0), (0, 1)]).transform(data)\n",
    "two_points.shape"
   ]
  },
  {
   "cell_type": "code",
   "execution_count": null,
   "id": "1cabb695",
   "metadata": {},
   "outputs": [],
   "source": [
    "plot_microstructures(two_points[0, :, :, 0], two_points[9, :, :, 0], titles=['Initial', 'Final'], showticks=False)"
   ]
  },
  {
   "cell_type": "code",
   "execution_count": null,
   "id": "f63872ea",
   "metadata": {},
   "outputs": [],
   "source": [
    "reshaped_two_points=two_points.reshape(10, -1)\n",
    "reshaped_two_points.shape"
   ]
  },
  {
   "cell_type": "code",
   "execution_count": null,
   "id": "d1e163a0",
   "metadata": {},
   "outputs": [],
   "source": [
    "pca = PCA(svd_solver='full', n_components=2, random_state=10)\n",
    "\n",
    "pc_scores=pca.fit_transform(reshaped_two_points)\n",
    "pc_scores.shape"
   ]
  },
  {
   "cell_type": "code",
   "execution_count": null,
   "id": "aab65d01",
   "metadata": {},
   "outputs": [],
   "source": [
    "pca.components_ \n",
    "pca.components_.shape"
   ]
  },
  {
   "cell_type": "code",
   "execution_count": null,
   "id": "1ed297d1",
   "metadata": {},
   "outputs": [],
   "source": [
    "%matplotlib notebook"
   ]
  },
  {
   "cell_type": "code",
   "execution_count": null,
   "id": "04a8d058",
   "metadata": {},
   "outputs": [],
   "source": [
    "pc1, pc2 = np.split(pc_scores, 2)\n",
    "print(pc1.shape)\n",
    "print(pc1)"
   ]
  },
  {
   "cell_type": "code",
   "execution_count": null,
   "id": "8e35bbf4",
   "metadata": {},
   "outputs": [],
   "source": [
    "print(pca.explained_variance_ratio_)\n",
    "print(np.sum(pca.explained_variance_ratio_))"
   ]
  },
  {
   "cell_type": "code",
   "execution_count": null,
   "id": "aaed385a",
   "metadata": {},
   "outputs": [],
   "source": [
    "fig = plt.figure()\n",
    "ax = fig.add_subplot(111)\n",
    "\n",
    "plt.scatter(pc1[:,0], pc2[:,0], c='b', marker='+') \n",
    "plt.scatter(pc1[:,1], pc2[:,1], c='y', marker='+')\n",
    "\n",
    "ax.set_xlabel(\"PC1\")\n",
    "ax.set_ylabel(\"PC2\")\n",
    "ax.set_title(\"PCA Visualization\")\n",
    "plt.grid(color = 'black', linestyle = '--', linewidth = 0.5)\n",
    "\n",
    "plt.colorbar()\n",
    "plt.show()"
   ]
  },
  {
   "cell_type": "code",
   "execution_count": null,
   "id": "5c321ef0",
   "metadata": {},
   "outputs": [],
   "source": [
    "# write csv file\n",
    "f = open(r'C:\\Users\\mikep\\Desktop\\project\\data\\pc_scores', 'w')\n",
    "writer = csv.writer(f)\n",
    "writer.writerow(pc1)\n",
    "f.close()"
   ]
  }
 ],
 "metadata": {
  "kernelspec": {
   "display_name": "Python 3 (ipykernel)",
   "language": "python",
   "name": "python3"
  },
  "language_info": {
   "codemirror_mode": {
    "name": "ipython",
    "version": 3
   },
   "file_extension": ".py",
   "mimetype": "text/x-python",
   "name": "python",
   "nbconvert_exporter": "python",
   "pygments_lexer": "ipython3",
   "version": "3.9.12"
  }
 },
 "nbformat": 4,
 "nbformat_minor": 5
}
